{
  "cells": [
    {
      "cell_type": "markdown",
      "metadata": {
        "id": "VQqOyypPeHNU"
      },
      "source": [
        "#Week9"
      ]
    },
    {
      "cell_type": "markdown",
      "metadata": {
        "id": "074xRN2agn-H"
      },
      "source": [
        "https://colab.research.google.com/drive/1u9UtBFgnJKxroV3h7XJw7JxbPaGuHGlL?usp=sharing"
      ]
    },
    {
      "cell_type": "markdown",
      "metadata": {
        "id": "gFJ-tFyegOe4"
      },
      "source": [
        "Reference\n",
        "- https://pbpython.com/plotly-look.html\n",
        "- https://www.kaggle.com/crawford/80-cereals >> data set\n",
        "- http://seaborn.pydata.org/examples/index.html\n"
      ]
    },
    {
      "cell_type": "code",
      "execution_count": 1,
      "metadata": {
        "colab": {
          "base_uri": "https://localhost:8080/",
          "height": 258
        },
        "id": "Vc6lXCuXfMJF",
        "outputId": "91fd7223-422b-40f6-fee3-afcc06302874"
      },
      "outputs": [
        {
          "data": {
            "text/html": [
              "<div>\n",
              "<style scoped>\n",
              "    .dataframe tbody tr th:only-of-type {\n",
              "        vertical-align: middle;\n",
              "    }\n",
              "\n",
              "    .dataframe tbody tr th {\n",
              "        vertical-align: top;\n",
              "    }\n",
              "\n",
              "    .dataframe thead th {\n",
              "        text-align: right;\n",
              "    }\n",
              "</style>\n",
              "<table border=\"1\" class=\"dataframe\">\n",
              "  <thead>\n",
              "    <tr style=\"text-align: right;\">\n",
              "      <th></th>\n",
              "      <th>name</th>\n",
              "      <th>mfr</th>\n",
              "      <th>type</th>\n",
              "      <th>calories</th>\n",
              "      <th>protein</th>\n",
              "      <th>fat</th>\n",
              "      <th>sodium</th>\n",
              "      <th>fiber</th>\n",
              "      <th>carbo</th>\n",
              "      <th>sugars</th>\n",
              "      <th>potass</th>\n",
              "      <th>vitamins</th>\n",
              "      <th>shelf</th>\n",
              "      <th>weight</th>\n",
              "      <th>cups</th>\n",
              "      <th>rating</th>\n",
              "      <th>cereal</th>\n",
              "    </tr>\n",
              "  </thead>\n",
              "  <tbody>\n",
              "    <tr>\n",
              "      <th>0</th>\n",
              "      <td>100% Bran</td>\n",
              "      <td>Nabisco</td>\n",
              "      <td>Cold</td>\n",
              "      <td>70</td>\n",
              "      <td>4</td>\n",
              "      <td>1</td>\n",
              "      <td>130</td>\n",
              "      <td>10.0</td>\n",
              "      <td>5.0</td>\n",
              "      <td>6</td>\n",
              "      <td>280</td>\n",
              "      <td>25</td>\n",
              "      <td>Top</td>\n",
              "      <td>1.0</td>\n",
              "      <td>0.33</td>\n",
              "      <td>68.40</td>\n",
              "      <td>1</td>\n",
              "    </tr>\n",
              "    <tr>\n",
              "      <th>1</th>\n",
              "      <td>100% Natural Bran</td>\n",
              "      <td>Quaker Oats</td>\n",
              "      <td>Cold</td>\n",
              "      <td>120</td>\n",
              "      <td>3</td>\n",
              "      <td>5</td>\n",
              "      <td>15</td>\n",
              "      <td>2.0</td>\n",
              "      <td>8.0</td>\n",
              "      <td>8</td>\n",
              "      <td>135</td>\n",
              "      <td>0</td>\n",
              "      <td>Top</td>\n",
              "      <td>1.0</td>\n",
              "      <td>1.00</td>\n",
              "      <td>33.98</td>\n",
              "      <td>1</td>\n",
              "    </tr>\n",
              "    <tr>\n",
              "      <th>2</th>\n",
              "      <td>All-Bran</td>\n",
              "      <td>Kellogs</td>\n",
              "      <td>Cold</td>\n",
              "      <td>70</td>\n",
              "      <td>4</td>\n",
              "      <td>1</td>\n",
              "      <td>260</td>\n",
              "      <td>9.0</td>\n",
              "      <td>7.0</td>\n",
              "      <td>5</td>\n",
              "      <td>320</td>\n",
              "      <td>25</td>\n",
              "      <td>Top</td>\n",
              "      <td>1.0</td>\n",
              "      <td>0.33</td>\n",
              "      <td>59.43</td>\n",
              "      <td>1</td>\n",
              "    </tr>\n",
              "    <tr>\n",
              "      <th>3</th>\n",
              "      <td>All-Bran with Extra Fiber</td>\n",
              "      <td>Kellogs</td>\n",
              "      <td>Cold</td>\n",
              "      <td>50</td>\n",
              "      <td>4</td>\n",
              "      <td>0</td>\n",
              "      <td>140</td>\n",
              "      <td>14.0</td>\n",
              "      <td>8.0</td>\n",
              "      <td>0</td>\n",
              "      <td>330</td>\n",
              "      <td>25</td>\n",
              "      <td>Top</td>\n",
              "      <td>1.0</td>\n",
              "      <td>0.50</td>\n",
              "      <td>93.70</td>\n",
              "      <td>1</td>\n",
              "    </tr>\n",
              "    <tr>\n",
              "      <th>4</th>\n",
              "      <td>Almond Delight</td>\n",
              "      <td>Ralston Purina</td>\n",
              "      <td>Cold</td>\n",
              "      <td>110</td>\n",
              "      <td>2</td>\n",
              "      <td>2</td>\n",
              "      <td>200</td>\n",
              "      <td>1.0</td>\n",
              "      <td>14.0</td>\n",
              "      <td>8</td>\n",
              "      <td>-1</td>\n",
              "      <td>25</td>\n",
              "      <td>Top</td>\n",
              "      <td>1.0</td>\n",
              "      <td>0.75</td>\n",
              "      <td>34.38</td>\n",
              "      <td>1</td>\n",
              "    </tr>\n",
              "  </tbody>\n",
              "</table>\n",
              "</div>"
            ],
            "text/plain": [
              "                        name             mfr  type  calories  protein  fat  \\\n",
              "0                  100% Bran         Nabisco  Cold        70        4    1   \n",
              "1          100% Natural Bran     Quaker Oats  Cold       120        3    5   \n",
              "2                   All-Bran         Kellogs  Cold        70        4    1   \n",
              "3  All-Bran with Extra Fiber         Kellogs  Cold        50        4    0   \n",
              "4             Almond Delight  Ralston Purina  Cold       110        2    2   \n",
              "\n",
              "   sodium  fiber  carbo  sugars  potass  vitamins shelf  weight  cups  rating  \\\n",
              "0     130   10.0    5.0       6     280        25   Top     1.0  0.33   68.40   \n",
              "1      15    2.0    8.0       8     135         0   Top     1.0  1.00   33.98   \n",
              "2     260    9.0    7.0       5     320        25   Top     1.0  0.33   59.43   \n",
              "3     140   14.0    8.0       0     330        25   Top     1.0  0.50   93.70   \n",
              "4     200    1.0   14.0       8      -1        25   Top     1.0  0.75   34.38   \n",
              "\n",
              "   cereal  \n",
              "0       1  \n",
              "1       1  \n",
              "2       1  \n",
              "3       1  \n",
              "4       1  "
            ]
          },
          "execution_count": 1,
          "metadata": {},
          "output_type": "execute_result"
        }
      ],
      "source": [
        "import pandas as pd\n",
        "import plotly.express as px\n",
        "import seaborn as sns\n",
        "\n",
        "df = pd.read_csv('https://github.com/chris1610/pbpython/blob/master/data/cereal_data.csv?raw=True')\n",
        "df.head()"
      ]
    },
    {
      "cell_type": "code",
      "execution_count": 2,
      "metadata": {
        "colab": {
          "base_uri": "https://localhost:8080/"
        },
        "id": "egemWxWbAGK-",
        "outputId": "4a46129e-5b8c-4ea2-ca92-06dd7ad7a23a"
      },
      "outputs": [
        {
          "data": {
            "text/plain": [
              "(77, 17)"
            ]
          },
          "execution_count": 2,
          "metadata": {},
          "output_type": "execute_result"
        }
      ],
      "source": [
        "df.shape"
      ]
    },
    {
      "cell_type": "code",
      "execution_count": 3,
      "metadata": {
        "colab": {
          "base_uri": "https://localhost:8080/"
        },
        "id": "YXTkRUjrqcGo",
        "outputId": "2ca3a264-7a81-4721-9ad7-e61bd002e0f3"
      },
      "outputs": [
        {
          "name": "stdout",
          "output_type": "stream",
          "text": [
            "<class 'pandas.core.frame.DataFrame'>\n",
            "RangeIndex: 77 entries, 0 to 76\n",
            "Data columns (total 17 columns):\n",
            " #   Column    Non-Null Count  Dtype  \n",
            "---  ------    --------------  -----  \n",
            " 0   name      77 non-null     object \n",
            " 1   mfr       77 non-null     object \n",
            " 2   type      77 non-null     object \n",
            " 3   calories  77 non-null     int64  \n",
            " 4   protein   77 non-null     int64  \n",
            " 5   fat       77 non-null     int64  \n",
            " 6   sodium    77 non-null     int64  \n",
            " 7   fiber     77 non-null     float64\n",
            " 8   carbo     77 non-null     float64\n",
            " 9   sugars    77 non-null     int64  \n",
            " 10  potass    77 non-null     int64  \n",
            " 11  vitamins  77 non-null     int64  \n",
            " 12  shelf     77 non-null     object \n",
            " 13  weight    77 non-null     float64\n",
            " 14  cups      77 non-null     float64\n",
            " 15  rating    77 non-null     float64\n",
            " 16  cereal    77 non-null     int64  \n",
            "dtypes: float64(5), int64(8), object(4)\n",
            "memory usage: 10.4+ KB\n"
          ]
        }
      ],
      "source": [
        "df.info()"
      ]
    },
    {
      "cell_type": "code",
      "execution_count": 4,
      "metadata": {
        "colab": {
          "base_uri": "https://localhost:8080/"
        },
        "id": "VcPn5lo-jhNX",
        "outputId": "fede3e31-8657-4a9f-9f1f-cddfd4deaf92"
      },
      "outputs": [
        {
          "data": {
            "text/plain": [
              "array(['Top', 'Bottom', 'Middle'], dtype=object)"
            ]
          },
          "execution_count": 4,
          "metadata": {},
          "output_type": "execute_result"
        }
      ],
      "source": [
        "df['shelf'].unique()"
      ]
    },
    {
      "cell_type": "code",
      "execution_count": 5,
      "metadata": {
        "colab": {
          "base_uri": "https://localhost:8080/",
          "height": 542
        },
        "id": "deXHuGcOgSrt",
        "outputId": "4092c478-8062-461a-b150-5b46dcbad839"
      },
      "outputs": [
        {
          "data": {
            "application/vnd.plotly.v1+json": {
              "config": {
                "plotlyServerURL": "https://plot.ly"
              },
              "data": [
                {
                  "hovertemplate": "<b>%{hovertext}</b><br><br>sugars=%{x}<br>rating=%{y}<extra></extra>",
                  "hovertext": [
                    "100% Bran / Nabisco",
                    "100% Natural Bran / Quaker Oats",
                    "All-Bran / Kellogs",
                    "All-Bran with Extra Fiber / Kellogs",
                    "Almond Delight / Ralston Purina",
                    "Apple Cinnamon Cheerios / General Mills",
                    "Apple Jacks / Kellogs",
                    "Basic 4 / General Mills",
                    "Bran Chex / Ralston Purina",
                    "Bran Flakes / Post",
                    "Cap'n'Crunch / Quaker Oats",
                    "Cheerios / General Mills",
                    "Cinnamon Toast Crunch / General Mills",
                    "Clusters / General Mills",
                    "Cocoa Puffs / General Mills",
                    "Corn Chex / Ralston Purina",
                    "Corn Flakes / Kellogs",
                    "Corn Pops / Kellogs",
                    "Count Chocula / General Mills",
                    "Cracklin' Oat Bran / Kellogs",
                    "Cream of Wheat (Quick) / Nabisco",
                    "Crispix / Kellogs",
                    "Crispy Wheat & Raisins / General Mills",
                    "Double Chex / Ralston Purina",
                    "Froot Loops / Kellogs",
                    "Frosted Flakes / Kellogs",
                    "Frosted Mini-Wheats / Kellogs",
                    "Fruit & Fibre Dates, Walnuts, and Oats / Post",
                    "Fruitful Bran / Kellogs",
                    "Fruity Pebbles / Post",
                    "Golden Crisp / Post",
                    "Golden Grahams / General Mills",
                    "Grape Nuts Flakes / Post",
                    "Grape-Nuts / Post",
                    "Great Grains Pecan / Post",
                    "Honey Graham Ohs / Quaker Oats",
                    "Honey Nut Cheerios / General Mills",
                    "Honey-comb / Post",
                    "Just Right Crunchy  Nuggets / Kellogs",
                    "Just Right Fruit & Nut / Kellogs",
                    "Kix / General Mills",
                    "Life / Quaker Oats",
                    "Lucky Charms / General Mills",
                    "Maypo / AM Home Food",
                    "Muesli Raisins, Dates, & Almonds / Ralston Purina",
                    "Muesli Raisins, Peaches, & Pecans / Ralston Purina",
                    "Mueslix Crispy Blend / Kellogs",
                    "Multi-Grain Cheerios / General Mills",
                    "Nut&Honey Crunch / Kellogs",
                    "Nutri-Grain Almond-Raisin / Kellogs",
                    "Nutri-grain Wheat / Kellogs",
                    "Oatmeal Raisin Crisp / General Mills",
                    "Post Nat. Raisin Bran / Post",
                    "Product 19 / Kellogs",
                    "Puffed Rice / Quaker Oats",
                    "Puffed Wheat / Quaker Oats",
                    "Quaker Oat Squares / Quaker Oats",
                    "Quaker Oatmeal / Quaker Oats",
                    "Raisin Bran / Kellogs",
                    "Raisin Nut Bran / General Mills",
                    "Raisin Squares / Kellogs",
                    "Rice Chex / Ralston Purina",
                    "Rice Krispies / Kellogs",
                    "Shredded Wheat / Nabisco",
                    "Shredded Wheat 'n'Bran / Nabisco",
                    "Shredded Wheat spoon size / Nabisco",
                    "Smacks / Kellogs",
                    "Special K / Kellogs",
                    "Strawberry Fruit Wheats / Nabisco",
                    "Total Corn Flakes / General Mills",
                    "Total Raisin Bran / General Mills",
                    "Total Whole Grain / General Mills",
                    "Triples / General Mills",
                    "Trix / General Mills",
                    "Wheat Chex / Ralston Purina",
                    "Wheaties / General Mills",
                    "Wheaties Honey Gold / General Mills"
                  ],
                  "legendgroup": "",
                  "marker": {
                    "color": "#636efa",
                    "symbol": "circle"
                  },
                  "mode": "markers",
                  "name": "",
                  "orientation": "v",
                  "showlegend": false,
                  "type": "scatter",
                  "x": [
                    6,
                    8,
                    5,
                    0,
                    8,
                    10,
                    14,
                    8,
                    6,
                    5,
                    12,
                    1,
                    9,
                    7,
                    13,
                    3,
                    2,
                    12,
                    13,
                    7,
                    0,
                    3,
                    10,
                    5,
                    13,
                    11,
                    7,
                    10,
                    12,
                    12,
                    15,
                    9,
                    5,
                    3,
                    4,
                    11,
                    10,
                    11,
                    6,
                    9,
                    3,
                    6,
                    12,
                    3,
                    11,
                    11,
                    13,
                    6,
                    9,
                    7,
                    2,
                    10,
                    14,
                    3,
                    0,
                    0,
                    6,
                    -1,
                    12,
                    8,
                    6,
                    2,
                    3,
                    0,
                    0,
                    0,
                    15,
                    3,
                    5,
                    3,
                    14,
                    3,
                    3,
                    12,
                    3,
                    3,
                    8
                  ],
                  "xaxis": "x",
                  "y": [
                    68.4,
                    33.98,
                    59.43,
                    93.7,
                    34.38,
                    29.51,
                    33.17,
                    37.04,
                    49.12,
                    53.31,
                    18.04,
                    50.76,
                    19.82,
                    40.4,
                    22.74,
                    41.45,
                    45.86,
                    35.78,
                    22.4,
                    40.45,
                    64.53,
                    46.9,
                    36.18,
                    44.33,
                    32.21,
                    31.44,
                    58.35,
                    40.92,
                    41.02,
                    28.03,
                    35.25,
                    23.8,
                    52.08,
                    53.37,
                    45.81,
                    21.87,
                    31.07,
                    28.74,
                    36.52,
                    36.47,
                    39.24,
                    45.33,
                    26.73,
                    54.85,
                    37.14,
                    34.14,
                    30.31,
                    40.11,
                    29.92,
                    40.69,
                    59.64,
                    30.45,
                    37.84,
                    41.5,
                    60.76,
                    63.01,
                    49.51,
                    50.83,
                    39.26,
                    39.7,
                    55.33,
                    42,
                    40.56,
                    68.24,
                    74.47,
                    72.8,
                    31.23,
                    53.13,
                    59.36,
                    38.84,
                    28.59,
                    46.66,
                    39.11,
                    27.75,
                    49.79,
                    51.59,
                    36.19
                  ],
                  "yaxis": "y"
                }
              ],
              "layout": {
                "legend": {
                  "tracegroupgap": 0
                },
                "template": {
                  "data": {
                    "bar": [
                      {
                        "error_x": {
                          "color": "#2a3f5f"
                        },
                        "error_y": {
                          "color": "#2a3f5f"
                        },
                        "marker": {
                          "line": {
                            "color": "#E5ECF6",
                            "width": 0.5
                          },
                          "pattern": {
                            "fillmode": "overlay",
                            "size": 10,
                            "solidity": 0.2
                          }
                        },
                        "type": "bar"
                      }
                    ],
                    "barpolar": [
                      {
                        "marker": {
                          "line": {
                            "color": "#E5ECF6",
                            "width": 0.5
                          },
                          "pattern": {
                            "fillmode": "overlay",
                            "size": 10,
                            "solidity": 0.2
                          }
                        },
                        "type": "barpolar"
                      }
                    ],
                    "carpet": [
                      {
                        "aaxis": {
                          "endlinecolor": "#2a3f5f",
                          "gridcolor": "white",
                          "linecolor": "white",
                          "minorgridcolor": "white",
                          "startlinecolor": "#2a3f5f"
                        },
                        "baxis": {
                          "endlinecolor": "#2a3f5f",
                          "gridcolor": "white",
                          "linecolor": "white",
                          "minorgridcolor": "white",
                          "startlinecolor": "#2a3f5f"
                        },
                        "type": "carpet"
                      }
                    ],
                    "choropleth": [
                      {
                        "colorbar": {
                          "outlinewidth": 0,
                          "ticks": ""
                        },
                        "type": "choropleth"
                      }
                    ],
                    "contour": [
                      {
                        "colorbar": {
                          "outlinewidth": 0,
                          "ticks": ""
                        },
                        "colorscale": [
                          [
                            0,
                            "#0d0887"
                          ],
                          [
                            0.1111111111111111,
                            "#46039f"
                          ],
                          [
                            0.2222222222222222,
                            "#7201a8"
                          ],
                          [
                            0.3333333333333333,
                            "#9c179e"
                          ],
                          [
                            0.4444444444444444,
                            "#bd3786"
                          ],
                          [
                            0.5555555555555556,
                            "#d8576b"
                          ],
                          [
                            0.6666666666666666,
                            "#ed7953"
                          ],
                          [
                            0.7777777777777778,
                            "#fb9f3a"
                          ],
                          [
                            0.8888888888888888,
                            "#fdca26"
                          ],
                          [
                            1,
                            "#f0f921"
                          ]
                        ],
                        "type": "contour"
                      }
                    ],
                    "contourcarpet": [
                      {
                        "colorbar": {
                          "outlinewidth": 0,
                          "ticks": ""
                        },
                        "type": "contourcarpet"
                      }
                    ],
                    "heatmap": [
                      {
                        "colorbar": {
                          "outlinewidth": 0,
                          "ticks": ""
                        },
                        "colorscale": [
                          [
                            0,
                            "#0d0887"
                          ],
                          [
                            0.1111111111111111,
                            "#46039f"
                          ],
                          [
                            0.2222222222222222,
                            "#7201a8"
                          ],
                          [
                            0.3333333333333333,
                            "#9c179e"
                          ],
                          [
                            0.4444444444444444,
                            "#bd3786"
                          ],
                          [
                            0.5555555555555556,
                            "#d8576b"
                          ],
                          [
                            0.6666666666666666,
                            "#ed7953"
                          ],
                          [
                            0.7777777777777778,
                            "#fb9f3a"
                          ],
                          [
                            0.8888888888888888,
                            "#fdca26"
                          ],
                          [
                            1,
                            "#f0f921"
                          ]
                        ],
                        "type": "heatmap"
                      }
                    ],
                    "heatmapgl": [
                      {
                        "colorbar": {
                          "outlinewidth": 0,
                          "ticks": ""
                        },
                        "colorscale": [
                          [
                            0,
                            "#0d0887"
                          ],
                          [
                            0.1111111111111111,
                            "#46039f"
                          ],
                          [
                            0.2222222222222222,
                            "#7201a8"
                          ],
                          [
                            0.3333333333333333,
                            "#9c179e"
                          ],
                          [
                            0.4444444444444444,
                            "#bd3786"
                          ],
                          [
                            0.5555555555555556,
                            "#d8576b"
                          ],
                          [
                            0.6666666666666666,
                            "#ed7953"
                          ],
                          [
                            0.7777777777777778,
                            "#fb9f3a"
                          ],
                          [
                            0.8888888888888888,
                            "#fdca26"
                          ],
                          [
                            1,
                            "#f0f921"
                          ]
                        ],
                        "type": "heatmapgl"
                      }
                    ],
                    "histogram": [
                      {
                        "marker": {
                          "pattern": {
                            "fillmode": "overlay",
                            "size": 10,
                            "solidity": 0.2
                          }
                        },
                        "type": "histogram"
                      }
                    ],
                    "histogram2d": [
                      {
                        "colorbar": {
                          "outlinewidth": 0,
                          "ticks": ""
                        },
                        "colorscale": [
                          [
                            0,
                            "#0d0887"
                          ],
                          [
                            0.1111111111111111,
                            "#46039f"
                          ],
                          [
                            0.2222222222222222,
                            "#7201a8"
                          ],
                          [
                            0.3333333333333333,
                            "#9c179e"
                          ],
                          [
                            0.4444444444444444,
                            "#bd3786"
                          ],
                          [
                            0.5555555555555556,
                            "#d8576b"
                          ],
                          [
                            0.6666666666666666,
                            "#ed7953"
                          ],
                          [
                            0.7777777777777778,
                            "#fb9f3a"
                          ],
                          [
                            0.8888888888888888,
                            "#fdca26"
                          ],
                          [
                            1,
                            "#f0f921"
                          ]
                        ],
                        "type": "histogram2d"
                      }
                    ],
                    "histogram2dcontour": [
                      {
                        "colorbar": {
                          "outlinewidth": 0,
                          "ticks": ""
                        },
                        "colorscale": [
                          [
                            0,
                            "#0d0887"
                          ],
                          [
                            0.1111111111111111,
                            "#46039f"
                          ],
                          [
                            0.2222222222222222,
                            "#7201a8"
                          ],
                          [
                            0.3333333333333333,
                            "#9c179e"
                          ],
                          [
                            0.4444444444444444,
                            "#bd3786"
                          ],
                          [
                            0.5555555555555556,
                            "#d8576b"
                          ],
                          [
                            0.6666666666666666,
                            "#ed7953"
                          ],
                          [
                            0.7777777777777778,
                            "#fb9f3a"
                          ],
                          [
                            0.8888888888888888,
                            "#fdca26"
                          ],
                          [
                            1,
                            "#f0f921"
                          ]
                        ],
                        "type": "histogram2dcontour"
                      }
                    ],
                    "mesh3d": [
                      {
                        "colorbar": {
                          "outlinewidth": 0,
                          "ticks": ""
                        },
                        "type": "mesh3d"
                      }
                    ],
                    "parcoords": [
                      {
                        "line": {
                          "colorbar": {
                            "outlinewidth": 0,
                            "ticks": ""
                          }
                        },
                        "type": "parcoords"
                      }
                    ],
                    "pie": [
                      {
                        "automargin": true,
                        "type": "pie"
                      }
                    ],
                    "scatter": [
                      {
                        "fillpattern": {
                          "fillmode": "overlay",
                          "size": 10,
                          "solidity": 0.2
                        },
                        "type": "scatter"
                      }
                    ],
                    "scatter3d": [
                      {
                        "line": {
                          "colorbar": {
                            "outlinewidth": 0,
                            "ticks": ""
                          }
                        },
                        "marker": {
                          "colorbar": {
                            "outlinewidth": 0,
                            "ticks": ""
                          }
                        },
                        "type": "scatter3d"
                      }
                    ],
                    "scattercarpet": [
                      {
                        "marker": {
                          "colorbar": {
                            "outlinewidth": 0,
                            "ticks": ""
                          }
                        },
                        "type": "scattercarpet"
                      }
                    ],
                    "scattergeo": [
                      {
                        "marker": {
                          "colorbar": {
                            "outlinewidth": 0,
                            "ticks": ""
                          }
                        },
                        "type": "scattergeo"
                      }
                    ],
                    "scattergl": [
                      {
                        "marker": {
                          "colorbar": {
                            "outlinewidth": 0,
                            "ticks": ""
                          }
                        },
                        "type": "scattergl"
                      }
                    ],
                    "scattermapbox": [
                      {
                        "marker": {
                          "colorbar": {
                            "outlinewidth": 0,
                            "ticks": ""
                          }
                        },
                        "type": "scattermapbox"
                      }
                    ],
                    "scatterpolar": [
                      {
                        "marker": {
                          "colorbar": {
                            "outlinewidth": 0,
                            "ticks": ""
                          }
                        },
                        "type": "scatterpolar"
                      }
                    ],
                    "scatterpolargl": [
                      {
                        "marker": {
                          "colorbar": {
                            "outlinewidth": 0,
                            "ticks": ""
                          }
                        },
                        "type": "scatterpolargl"
                      }
                    ],
                    "scatterternary": [
                      {
                        "marker": {
                          "colorbar": {
                            "outlinewidth": 0,
                            "ticks": ""
                          }
                        },
                        "type": "scatterternary"
                      }
                    ],
                    "surface": [
                      {
                        "colorbar": {
                          "outlinewidth": 0,
                          "ticks": ""
                        },
                        "colorscale": [
                          [
                            0,
                            "#0d0887"
                          ],
                          [
                            0.1111111111111111,
                            "#46039f"
                          ],
                          [
                            0.2222222222222222,
                            "#7201a8"
                          ],
                          [
                            0.3333333333333333,
                            "#9c179e"
                          ],
                          [
                            0.4444444444444444,
                            "#bd3786"
                          ],
                          [
                            0.5555555555555556,
                            "#d8576b"
                          ],
                          [
                            0.6666666666666666,
                            "#ed7953"
                          ],
                          [
                            0.7777777777777778,
                            "#fb9f3a"
                          ],
                          [
                            0.8888888888888888,
                            "#fdca26"
                          ],
                          [
                            1,
                            "#f0f921"
                          ]
                        ],
                        "type": "surface"
                      }
                    ],
                    "table": [
                      {
                        "cells": {
                          "fill": {
                            "color": "#EBF0F8"
                          },
                          "line": {
                            "color": "white"
                          }
                        },
                        "header": {
                          "fill": {
                            "color": "#C8D4E3"
                          },
                          "line": {
                            "color": "white"
                          }
                        },
                        "type": "table"
                      }
                    ]
                  },
                  "layout": {
                    "annotationdefaults": {
                      "arrowcolor": "#2a3f5f",
                      "arrowhead": 0,
                      "arrowwidth": 1
                    },
                    "autotypenumbers": "strict",
                    "coloraxis": {
                      "colorbar": {
                        "outlinewidth": 0,
                        "ticks": ""
                      }
                    },
                    "colorscale": {
                      "diverging": [
                        [
                          0,
                          "#8e0152"
                        ],
                        [
                          0.1,
                          "#c51b7d"
                        ],
                        [
                          0.2,
                          "#de77ae"
                        ],
                        [
                          0.3,
                          "#f1b6da"
                        ],
                        [
                          0.4,
                          "#fde0ef"
                        ],
                        [
                          0.5,
                          "#f7f7f7"
                        ],
                        [
                          0.6,
                          "#e6f5d0"
                        ],
                        [
                          0.7,
                          "#b8e186"
                        ],
                        [
                          0.8,
                          "#7fbc41"
                        ],
                        [
                          0.9,
                          "#4d9221"
                        ],
                        [
                          1,
                          "#276419"
                        ]
                      ],
                      "sequential": [
                        [
                          0,
                          "#0d0887"
                        ],
                        [
                          0.1111111111111111,
                          "#46039f"
                        ],
                        [
                          0.2222222222222222,
                          "#7201a8"
                        ],
                        [
                          0.3333333333333333,
                          "#9c179e"
                        ],
                        [
                          0.4444444444444444,
                          "#bd3786"
                        ],
                        [
                          0.5555555555555556,
                          "#d8576b"
                        ],
                        [
                          0.6666666666666666,
                          "#ed7953"
                        ],
                        [
                          0.7777777777777778,
                          "#fb9f3a"
                        ],
                        [
                          0.8888888888888888,
                          "#fdca26"
                        ],
                        [
                          1,
                          "#f0f921"
                        ]
                      ],
                      "sequentialminus": [
                        [
                          0,
                          "#0d0887"
                        ],
                        [
                          0.1111111111111111,
                          "#46039f"
                        ],
                        [
                          0.2222222222222222,
                          "#7201a8"
                        ],
                        [
                          0.3333333333333333,
                          "#9c179e"
                        ],
                        [
                          0.4444444444444444,
                          "#bd3786"
                        ],
                        [
                          0.5555555555555556,
                          "#d8576b"
                        ],
                        [
                          0.6666666666666666,
                          "#ed7953"
                        ],
                        [
                          0.7777777777777778,
                          "#fb9f3a"
                        ],
                        [
                          0.8888888888888888,
                          "#fdca26"
                        ],
                        [
                          1,
                          "#f0f921"
                        ]
                      ]
                    },
                    "colorway": [
                      "#636efa",
                      "#EF553B",
                      "#00cc96",
                      "#ab63fa",
                      "#FFA15A",
                      "#19d3f3",
                      "#FF6692",
                      "#B6E880",
                      "#FF97FF",
                      "#FECB52"
                    ],
                    "font": {
                      "color": "#2a3f5f"
                    },
                    "geo": {
                      "bgcolor": "white",
                      "lakecolor": "white",
                      "landcolor": "#E5ECF6",
                      "showlakes": true,
                      "showland": true,
                      "subunitcolor": "white"
                    },
                    "hoverlabel": {
                      "align": "left"
                    },
                    "hovermode": "closest",
                    "mapbox": {
                      "style": "light"
                    },
                    "paper_bgcolor": "white",
                    "plot_bgcolor": "#E5ECF6",
                    "polar": {
                      "angularaxis": {
                        "gridcolor": "white",
                        "linecolor": "white",
                        "ticks": ""
                      },
                      "bgcolor": "#E5ECF6",
                      "radialaxis": {
                        "gridcolor": "white",
                        "linecolor": "white",
                        "ticks": ""
                      }
                    },
                    "scene": {
                      "xaxis": {
                        "backgroundcolor": "#E5ECF6",
                        "gridcolor": "white",
                        "gridwidth": 2,
                        "linecolor": "white",
                        "showbackground": true,
                        "ticks": "",
                        "zerolinecolor": "white"
                      },
                      "yaxis": {
                        "backgroundcolor": "#E5ECF6",
                        "gridcolor": "white",
                        "gridwidth": 2,
                        "linecolor": "white",
                        "showbackground": true,
                        "ticks": "",
                        "zerolinecolor": "white"
                      },
                      "zaxis": {
                        "backgroundcolor": "#E5ECF6",
                        "gridcolor": "white",
                        "gridwidth": 2,
                        "linecolor": "white",
                        "showbackground": true,
                        "ticks": "",
                        "zerolinecolor": "white"
                      }
                    },
                    "shapedefaults": {
                      "line": {
                        "color": "#2a3f5f"
                      }
                    },
                    "ternary": {
                      "aaxis": {
                        "gridcolor": "white",
                        "linecolor": "white",
                        "ticks": ""
                      },
                      "baxis": {
                        "gridcolor": "white",
                        "linecolor": "white",
                        "ticks": ""
                      },
                      "bgcolor": "#E5ECF6",
                      "caxis": {
                        "gridcolor": "white",
                        "linecolor": "white",
                        "ticks": ""
                      }
                    },
                    "title": {
                      "x": 0.05
                    },
                    "xaxis": {
                      "automargin": true,
                      "gridcolor": "white",
                      "linecolor": "white",
                      "ticks": "",
                      "title": {
                        "standoff": 15
                      },
                      "zerolinecolor": "white",
                      "zerolinewidth": 2
                    },
                    "yaxis": {
                      "automargin": true,
                      "gridcolor": "white",
                      "linecolor": "white",
                      "ticks": "",
                      "title": {
                        "standoff": 15
                      },
                      "zerolinecolor": "white",
                      "zerolinewidth": 2
                    }
                  }
                },
                "title": {
                  "text": "Cereal_ratingsvs.sugars"
                },
                "xaxis": {
                  "anchor": "y",
                  "domain": [
                    0,
                    1
                  ],
                  "title": {
                    "text": "sugars"
                  }
                },
                "yaxis": {
                  "anchor": "x",
                  "domain": [
                    0,
                    1
                  ],
                  "title": {
                    "text": "rating"
                  }
                }
              }
            }
          },
          "metadata": {},
          "output_type": "display_data"
        }
      ],
      "source": [
        "fig = px.scatter(df,\n",
        "                x='sugars',\n",
        "                y='rating',\n",
        "                #hover_name='name',\n",
        "                hover_name= df['name'].astype(str)+\" / \"+df['mfr'].astype(str),\n",
        "                title='Cereal_ratingsvs.sugars')\n",
        "fig.show()\n",
        "\n",
        "#เอา df เข้ามาทั้งก้อน กำหนด x y, hover_name คือกำหนดชื่อที่จุด"
      ]
    },
    {
      "cell_type": "code",
      "execution_count": 6,
      "metadata": {
        "colab": {
          "base_uri": "https://localhost:8080/",
          "height": 542
        },
        "id": "ki_FBJWLrMCx",
        "outputId": "aa8efdae-27ae-4e3d-ca23-57da5c559896"
      },
      "outputs": [
        {
          "data": {
            "application/vnd.plotly.v1+json": {
              "config": {
                "plotlyServerURL": "https://plot.ly"
              },
              "data": [
                {
                  "alignmentgroup": "True",
                  "hovertemplate": "<b>%{hovertext}</b><br><br>sugars=%{x}<br>rating=%{y}<extra></extra>",
                  "hovertext": [
                    "100% Bran",
                    "100% Natural Bran",
                    "All-Bran",
                    "All-Bran with Extra Fiber",
                    "Almond Delight",
                    "Apple Cinnamon Cheerios",
                    "Apple Jacks",
                    "Basic 4",
                    "Bran Chex",
                    "Bran Flakes",
                    "Cap'n'Crunch",
                    "Cheerios",
                    "Cinnamon Toast Crunch",
                    "Clusters",
                    "Cocoa Puffs",
                    "Corn Chex",
                    "Corn Flakes",
                    "Corn Pops",
                    "Count Chocula",
                    "Cracklin' Oat Bran",
                    "Cream of Wheat (Quick)",
                    "Crispix",
                    "Crispy Wheat & Raisins",
                    "Double Chex",
                    "Froot Loops",
                    "Frosted Flakes",
                    "Frosted Mini-Wheats",
                    "Fruit & Fibre Dates, Walnuts, and Oats",
                    "Fruitful Bran",
                    "Fruity Pebbles",
                    "Golden Crisp",
                    "Golden Grahams",
                    "Grape Nuts Flakes",
                    "Grape-Nuts",
                    "Great Grains Pecan",
                    "Honey Graham Ohs",
                    "Honey Nut Cheerios",
                    "Honey-comb",
                    "Just Right Crunchy  Nuggets",
                    "Just Right Fruit & Nut",
                    "Kix",
                    "Life",
                    "Lucky Charms",
                    "Maypo",
                    "Muesli Raisins, Dates, & Almonds",
                    "Muesli Raisins, Peaches, & Pecans",
                    "Mueslix Crispy Blend",
                    "Multi-Grain Cheerios",
                    "Nut&Honey Crunch",
                    "Nutri-Grain Almond-Raisin",
                    "Nutri-grain Wheat",
                    "Oatmeal Raisin Crisp",
                    "Post Nat. Raisin Bran",
                    "Product 19",
                    "Puffed Rice",
                    "Puffed Wheat",
                    "Quaker Oat Squares",
                    "Quaker Oatmeal",
                    "Raisin Bran",
                    "Raisin Nut Bran",
                    "Raisin Squares",
                    "Rice Chex",
                    "Rice Krispies",
                    "Shredded Wheat",
                    "Shredded Wheat 'n'Bran",
                    "Shredded Wheat spoon size",
                    "Smacks",
                    "Special K",
                    "Strawberry Fruit Wheats",
                    "Total Corn Flakes",
                    "Total Raisin Bran",
                    "Total Whole Grain",
                    "Triples",
                    "Trix",
                    "Wheat Chex",
                    "Wheaties",
                    "Wheaties Honey Gold"
                  ],
                  "legendgroup": "",
                  "marker": {
                    "color": "#636efa"
                  },
                  "name": "",
                  "notched": false,
                  "offsetgroup": "",
                  "orientation": "v",
                  "showlegend": false,
                  "type": "box",
                  "x": [
                    6,
                    8,
                    5,
                    0,
                    8,
                    10,
                    14,
                    8,
                    6,
                    5,
                    12,
                    1,
                    9,
                    7,
                    13,
                    3,
                    2,
                    12,
                    13,
                    7,
                    0,
                    3,
                    10,
                    5,
                    13,
                    11,
                    7,
                    10,
                    12,
                    12,
                    15,
                    9,
                    5,
                    3,
                    4,
                    11,
                    10,
                    11,
                    6,
                    9,
                    3,
                    6,
                    12,
                    3,
                    11,
                    11,
                    13,
                    6,
                    9,
                    7,
                    2,
                    10,
                    14,
                    3,
                    0,
                    0,
                    6,
                    -1,
                    12,
                    8,
                    6,
                    2,
                    3,
                    0,
                    0,
                    0,
                    15,
                    3,
                    5,
                    3,
                    14,
                    3,
                    3,
                    12,
                    3,
                    3,
                    8
                  ],
                  "x0": " ",
                  "xaxis": "x",
                  "y": [
                    68.4,
                    33.98,
                    59.43,
                    93.7,
                    34.38,
                    29.51,
                    33.17,
                    37.04,
                    49.12,
                    53.31,
                    18.04,
                    50.76,
                    19.82,
                    40.4,
                    22.74,
                    41.45,
                    45.86,
                    35.78,
                    22.4,
                    40.45,
                    64.53,
                    46.9,
                    36.18,
                    44.33,
                    32.21,
                    31.44,
                    58.35,
                    40.92,
                    41.02,
                    28.03,
                    35.25,
                    23.8,
                    52.08,
                    53.37,
                    45.81,
                    21.87,
                    31.07,
                    28.74,
                    36.52,
                    36.47,
                    39.24,
                    45.33,
                    26.73,
                    54.85,
                    37.14,
                    34.14,
                    30.31,
                    40.11,
                    29.92,
                    40.69,
                    59.64,
                    30.45,
                    37.84,
                    41.5,
                    60.76,
                    63.01,
                    49.51,
                    50.83,
                    39.26,
                    39.7,
                    55.33,
                    42,
                    40.56,
                    68.24,
                    74.47,
                    72.8,
                    31.23,
                    53.13,
                    59.36,
                    38.84,
                    28.59,
                    46.66,
                    39.11,
                    27.75,
                    49.79,
                    51.59,
                    36.19
                  ],
                  "y0": " ",
                  "yaxis": "y"
                }
              ],
              "layout": {
                "boxmode": "group",
                "legend": {
                  "tracegroupgap": 0
                },
                "template": {
                  "data": {
                    "bar": [
                      {
                        "error_x": {
                          "color": "#2a3f5f"
                        },
                        "error_y": {
                          "color": "#2a3f5f"
                        },
                        "marker": {
                          "line": {
                            "color": "#E5ECF6",
                            "width": 0.5
                          },
                          "pattern": {
                            "fillmode": "overlay",
                            "size": 10,
                            "solidity": 0.2
                          }
                        },
                        "type": "bar"
                      }
                    ],
                    "barpolar": [
                      {
                        "marker": {
                          "line": {
                            "color": "#E5ECF6",
                            "width": 0.5
                          },
                          "pattern": {
                            "fillmode": "overlay",
                            "size": 10,
                            "solidity": 0.2
                          }
                        },
                        "type": "barpolar"
                      }
                    ],
                    "carpet": [
                      {
                        "aaxis": {
                          "endlinecolor": "#2a3f5f",
                          "gridcolor": "white",
                          "linecolor": "white",
                          "minorgridcolor": "white",
                          "startlinecolor": "#2a3f5f"
                        },
                        "baxis": {
                          "endlinecolor": "#2a3f5f",
                          "gridcolor": "white",
                          "linecolor": "white",
                          "minorgridcolor": "white",
                          "startlinecolor": "#2a3f5f"
                        },
                        "type": "carpet"
                      }
                    ],
                    "choropleth": [
                      {
                        "colorbar": {
                          "outlinewidth": 0,
                          "ticks": ""
                        },
                        "type": "choropleth"
                      }
                    ],
                    "contour": [
                      {
                        "colorbar": {
                          "outlinewidth": 0,
                          "ticks": ""
                        },
                        "colorscale": [
                          [
                            0,
                            "#0d0887"
                          ],
                          [
                            0.1111111111111111,
                            "#46039f"
                          ],
                          [
                            0.2222222222222222,
                            "#7201a8"
                          ],
                          [
                            0.3333333333333333,
                            "#9c179e"
                          ],
                          [
                            0.4444444444444444,
                            "#bd3786"
                          ],
                          [
                            0.5555555555555556,
                            "#d8576b"
                          ],
                          [
                            0.6666666666666666,
                            "#ed7953"
                          ],
                          [
                            0.7777777777777778,
                            "#fb9f3a"
                          ],
                          [
                            0.8888888888888888,
                            "#fdca26"
                          ],
                          [
                            1,
                            "#f0f921"
                          ]
                        ],
                        "type": "contour"
                      }
                    ],
                    "contourcarpet": [
                      {
                        "colorbar": {
                          "outlinewidth": 0,
                          "ticks": ""
                        },
                        "type": "contourcarpet"
                      }
                    ],
                    "heatmap": [
                      {
                        "colorbar": {
                          "outlinewidth": 0,
                          "ticks": ""
                        },
                        "colorscale": [
                          [
                            0,
                            "#0d0887"
                          ],
                          [
                            0.1111111111111111,
                            "#46039f"
                          ],
                          [
                            0.2222222222222222,
                            "#7201a8"
                          ],
                          [
                            0.3333333333333333,
                            "#9c179e"
                          ],
                          [
                            0.4444444444444444,
                            "#bd3786"
                          ],
                          [
                            0.5555555555555556,
                            "#d8576b"
                          ],
                          [
                            0.6666666666666666,
                            "#ed7953"
                          ],
                          [
                            0.7777777777777778,
                            "#fb9f3a"
                          ],
                          [
                            0.8888888888888888,
                            "#fdca26"
                          ],
                          [
                            1,
                            "#f0f921"
                          ]
                        ],
                        "type": "heatmap"
                      }
                    ],
                    "heatmapgl": [
                      {
                        "colorbar": {
                          "outlinewidth": 0,
                          "ticks": ""
                        },
                        "colorscale": [
                          [
                            0,
                            "#0d0887"
                          ],
                          [
                            0.1111111111111111,
                            "#46039f"
                          ],
                          [
                            0.2222222222222222,
                            "#7201a8"
                          ],
                          [
                            0.3333333333333333,
                            "#9c179e"
                          ],
                          [
                            0.4444444444444444,
                            "#bd3786"
                          ],
                          [
                            0.5555555555555556,
                            "#d8576b"
                          ],
                          [
                            0.6666666666666666,
                            "#ed7953"
                          ],
                          [
                            0.7777777777777778,
                            "#fb9f3a"
                          ],
                          [
                            0.8888888888888888,
                            "#fdca26"
                          ],
                          [
                            1,
                            "#f0f921"
                          ]
                        ],
                        "type": "heatmapgl"
                      }
                    ],
                    "histogram": [
                      {
                        "marker": {
                          "pattern": {
                            "fillmode": "overlay",
                            "size": 10,
                            "solidity": 0.2
                          }
                        },
                        "type": "histogram"
                      }
                    ],
                    "histogram2d": [
                      {
                        "colorbar": {
                          "outlinewidth": 0,
                          "ticks": ""
                        },
                        "colorscale": [
                          [
                            0,
                            "#0d0887"
                          ],
                          [
                            0.1111111111111111,
                            "#46039f"
                          ],
                          [
                            0.2222222222222222,
                            "#7201a8"
                          ],
                          [
                            0.3333333333333333,
                            "#9c179e"
                          ],
                          [
                            0.4444444444444444,
                            "#bd3786"
                          ],
                          [
                            0.5555555555555556,
                            "#d8576b"
                          ],
                          [
                            0.6666666666666666,
                            "#ed7953"
                          ],
                          [
                            0.7777777777777778,
                            "#fb9f3a"
                          ],
                          [
                            0.8888888888888888,
                            "#fdca26"
                          ],
                          [
                            1,
                            "#f0f921"
                          ]
                        ],
                        "type": "histogram2d"
                      }
                    ],
                    "histogram2dcontour": [
                      {
                        "colorbar": {
                          "outlinewidth": 0,
                          "ticks": ""
                        },
                        "colorscale": [
                          [
                            0,
                            "#0d0887"
                          ],
                          [
                            0.1111111111111111,
                            "#46039f"
                          ],
                          [
                            0.2222222222222222,
                            "#7201a8"
                          ],
                          [
                            0.3333333333333333,
                            "#9c179e"
                          ],
                          [
                            0.4444444444444444,
                            "#bd3786"
                          ],
                          [
                            0.5555555555555556,
                            "#d8576b"
                          ],
                          [
                            0.6666666666666666,
                            "#ed7953"
                          ],
                          [
                            0.7777777777777778,
                            "#fb9f3a"
                          ],
                          [
                            0.8888888888888888,
                            "#fdca26"
                          ],
                          [
                            1,
                            "#f0f921"
                          ]
                        ],
                        "type": "histogram2dcontour"
                      }
                    ],
                    "mesh3d": [
                      {
                        "colorbar": {
                          "outlinewidth": 0,
                          "ticks": ""
                        },
                        "type": "mesh3d"
                      }
                    ],
                    "parcoords": [
                      {
                        "line": {
                          "colorbar": {
                            "outlinewidth": 0,
                            "ticks": ""
                          }
                        },
                        "type": "parcoords"
                      }
                    ],
                    "pie": [
                      {
                        "automargin": true,
                        "type": "pie"
                      }
                    ],
                    "scatter": [
                      {
                        "fillpattern": {
                          "fillmode": "overlay",
                          "size": 10,
                          "solidity": 0.2
                        },
                        "type": "scatter"
                      }
                    ],
                    "scatter3d": [
                      {
                        "line": {
                          "colorbar": {
                            "outlinewidth": 0,
                            "ticks": ""
                          }
                        },
                        "marker": {
                          "colorbar": {
                            "outlinewidth": 0,
                            "ticks": ""
                          }
                        },
                        "type": "scatter3d"
                      }
                    ],
                    "scattercarpet": [
                      {
                        "marker": {
                          "colorbar": {
                            "outlinewidth": 0,
                            "ticks": ""
                          }
                        },
                        "type": "scattercarpet"
                      }
                    ],
                    "scattergeo": [
                      {
                        "marker": {
                          "colorbar": {
                            "outlinewidth": 0,
                            "ticks": ""
                          }
                        },
                        "type": "scattergeo"
                      }
                    ],
                    "scattergl": [
                      {
                        "marker": {
                          "colorbar": {
                            "outlinewidth": 0,
                            "ticks": ""
                          }
                        },
                        "type": "scattergl"
                      }
                    ],
                    "scattermapbox": [
                      {
                        "marker": {
                          "colorbar": {
                            "outlinewidth": 0,
                            "ticks": ""
                          }
                        },
                        "type": "scattermapbox"
                      }
                    ],
                    "scatterpolar": [
                      {
                        "marker": {
                          "colorbar": {
                            "outlinewidth": 0,
                            "ticks": ""
                          }
                        },
                        "type": "scatterpolar"
                      }
                    ],
                    "scatterpolargl": [
                      {
                        "marker": {
                          "colorbar": {
                            "outlinewidth": 0,
                            "ticks": ""
                          }
                        },
                        "type": "scatterpolargl"
                      }
                    ],
                    "scatterternary": [
                      {
                        "marker": {
                          "colorbar": {
                            "outlinewidth": 0,
                            "ticks": ""
                          }
                        },
                        "type": "scatterternary"
                      }
                    ],
                    "surface": [
                      {
                        "colorbar": {
                          "outlinewidth": 0,
                          "ticks": ""
                        },
                        "colorscale": [
                          [
                            0,
                            "#0d0887"
                          ],
                          [
                            0.1111111111111111,
                            "#46039f"
                          ],
                          [
                            0.2222222222222222,
                            "#7201a8"
                          ],
                          [
                            0.3333333333333333,
                            "#9c179e"
                          ],
                          [
                            0.4444444444444444,
                            "#bd3786"
                          ],
                          [
                            0.5555555555555556,
                            "#d8576b"
                          ],
                          [
                            0.6666666666666666,
                            "#ed7953"
                          ],
                          [
                            0.7777777777777778,
                            "#fb9f3a"
                          ],
                          [
                            0.8888888888888888,
                            "#fdca26"
                          ],
                          [
                            1,
                            "#f0f921"
                          ]
                        ],
                        "type": "surface"
                      }
                    ],
                    "table": [
                      {
                        "cells": {
                          "fill": {
                            "color": "#EBF0F8"
                          },
                          "line": {
                            "color": "white"
                          }
                        },
                        "header": {
                          "fill": {
                            "color": "#C8D4E3"
                          },
                          "line": {
                            "color": "white"
                          }
                        },
                        "type": "table"
                      }
                    ]
                  },
                  "layout": {
                    "annotationdefaults": {
                      "arrowcolor": "#2a3f5f",
                      "arrowhead": 0,
                      "arrowwidth": 1
                    },
                    "autotypenumbers": "strict",
                    "coloraxis": {
                      "colorbar": {
                        "outlinewidth": 0,
                        "ticks": ""
                      }
                    },
                    "colorscale": {
                      "diverging": [
                        [
                          0,
                          "#8e0152"
                        ],
                        [
                          0.1,
                          "#c51b7d"
                        ],
                        [
                          0.2,
                          "#de77ae"
                        ],
                        [
                          0.3,
                          "#f1b6da"
                        ],
                        [
                          0.4,
                          "#fde0ef"
                        ],
                        [
                          0.5,
                          "#f7f7f7"
                        ],
                        [
                          0.6,
                          "#e6f5d0"
                        ],
                        [
                          0.7,
                          "#b8e186"
                        ],
                        [
                          0.8,
                          "#7fbc41"
                        ],
                        [
                          0.9,
                          "#4d9221"
                        ],
                        [
                          1,
                          "#276419"
                        ]
                      ],
                      "sequential": [
                        [
                          0,
                          "#0d0887"
                        ],
                        [
                          0.1111111111111111,
                          "#46039f"
                        ],
                        [
                          0.2222222222222222,
                          "#7201a8"
                        ],
                        [
                          0.3333333333333333,
                          "#9c179e"
                        ],
                        [
                          0.4444444444444444,
                          "#bd3786"
                        ],
                        [
                          0.5555555555555556,
                          "#d8576b"
                        ],
                        [
                          0.6666666666666666,
                          "#ed7953"
                        ],
                        [
                          0.7777777777777778,
                          "#fb9f3a"
                        ],
                        [
                          0.8888888888888888,
                          "#fdca26"
                        ],
                        [
                          1,
                          "#f0f921"
                        ]
                      ],
                      "sequentialminus": [
                        [
                          0,
                          "#0d0887"
                        ],
                        [
                          0.1111111111111111,
                          "#46039f"
                        ],
                        [
                          0.2222222222222222,
                          "#7201a8"
                        ],
                        [
                          0.3333333333333333,
                          "#9c179e"
                        ],
                        [
                          0.4444444444444444,
                          "#bd3786"
                        ],
                        [
                          0.5555555555555556,
                          "#d8576b"
                        ],
                        [
                          0.6666666666666666,
                          "#ed7953"
                        ],
                        [
                          0.7777777777777778,
                          "#fb9f3a"
                        ],
                        [
                          0.8888888888888888,
                          "#fdca26"
                        ],
                        [
                          1,
                          "#f0f921"
                        ]
                      ]
                    },
                    "colorway": [
                      "#636efa",
                      "#EF553B",
                      "#00cc96",
                      "#ab63fa",
                      "#FFA15A",
                      "#19d3f3",
                      "#FF6692",
                      "#B6E880",
                      "#FF97FF",
                      "#FECB52"
                    ],
                    "font": {
                      "color": "#2a3f5f"
                    },
                    "geo": {
                      "bgcolor": "white",
                      "lakecolor": "white",
                      "landcolor": "#E5ECF6",
                      "showlakes": true,
                      "showland": true,
                      "subunitcolor": "white"
                    },
                    "hoverlabel": {
                      "align": "left"
                    },
                    "hovermode": "closest",
                    "mapbox": {
                      "style": "light"
                    },
                    "paper_bgcolor": "white",
                    "plot_bgcolor": "#E5ECF6",
                    "polar": {
                      "angularaxis": {
                        "gridcolor": "white",
                        "linecolor": "white",
                        "ticks": ""
                      },
                      "bgcolor": "#E5ECF6",
                      "radialaxis": {
                        "gridcolor": "white",
                        "linecolor": "white",
                        "ticks": ""
                      }
                    },
                    "scene": {
                      "xaxis": {
                        "backgroundcolor": "#E5ECF6",
                        "gridcolor": "white",
                        "gridwidth": 2,
                        "linecolor": "white",
                        "showbackground": true,
                        "ticks": "",
                        "zerolinecolor": "white"
                      },
                      "yaxis": {
                        "backgroundcolor": "#E5ECF6",
                        "gridcolor": "white",
                        "gridwidth": 2,
                        "linecolor": "white",
                        "showbackground": true,
                        "ticks": "",
                        "zerolinecolor": "white"
                      },
                      "zaxis": {
                        "backgroundcolor": "#E5ECF6",
                        "gridcolor": "white",
                        "gridwidth": 2,
                        "linecolor": "white",
                        "showbackground": true,
                        "ticks": "",
                        "zerolinecolor": "white"
                      }
                    },
                    "shapedefaults": {
                      "line": {
                        "color": "#2a3f5f"
                      }
                    },
                    "ternary": {
                      "aaxis": {
                        "gridcolor": "white",
                        "linecolor": "white",
                        "ticks": ""
                      },
                      "baxis": {
                        "gridcolor": "white",
                        "linecolor": "white",
                        "ticks": ""
                      },
                      "bgcolor": "#E5ECF6",
                      "caxis": {
                        "gridcolor": "white",
                        "linecolor": "white",
                        "ticks": ""
                      }
                    },
                    "title": {
                      "x": 0.05
                    },
                    "xaxis": {
                      "automargin": true,
                      "gridcolor": "white",
                      "linecolor": "white",
                      "ticks": "",
                      "title": {
                        "standoff": 15
                      },
                      "zerolinecolor": "white",
                      "zerolinewidth": 2
                    },
                    "yaxis": {
                      "automargin": true,
                      "gridcolor": "white",
                      "linecolor": "white",
                      "ticks": "",
                      "title": {
                        "standoff": 15
                      },
                      "zerolinecolor": "white",
                      "zerolinewidth": 2
                    }
                  }
                },
                "title": {
                  "text": "Cereal ratings vs. sugars"
                },
                "xaxis": {
                  "anchor": "y",
                  "domain": [
                    0,
                    1
                  ],
                  "title": {
                    "text": "sugars"
                  }
                },
                "yaxis": {
                  "anchor": "x",
                  "domain": [
                    0,
                    1
                  ],
                  "title": {
                    "text": "rating"
                  }
                }
              }
            }
          },
          "metadata": {},
          "output_type": "display_data"
        }
      ],
      "source": [
        "fig = px.box(df,\n",
        "                x='sugars',\n",
        "                y='rating',\n",
        "                hover_name='name',\n",
        "                title='Cereal ratings vs. sugars')\n",
        "fig.show()"
      ]
    },
    {
      "cell_type": "code",
      "execution_count": 7,
      "metadata": {
        "colab": {
          "base_uri": "https://localhost:8080/",
          "height": 542
        },
        "id": "R6xpYtyZguC2",
        "outputId": "91f1389b-a509-476b-8ea8-21fff8f5c491"
      },
      "outputs": [
        {
          "data": {
            "application/vnd.plotly.v1+json": {
              "config": {
                "plotlyServerURL": "https://plot.ly"
              },
              "data": [
                {
                  "alignmentgroup": "True",
                  "bingroup": "x",
                  "hovertemplate": "calories=70<br>rating=%{x}<br>count=%{y}<extra></extra>",
                  "legendgroup": "70",
                  "marker": {
                    "color": "#636efa",
                    "pattern": {
                      "shape": ""
                    }
                  },
                  "name": "70",
                  "nbinsx": 9,
                  "offsetgroup": "70",
                  "orientation": "v",
                  "showlegend": true,
                  "type": "histogram",
                  "x": [
                    68.4,
                    59.43
                  ],
                  "xaxis": "x",
                  "yaxis": "y"
                },
                {
                  "alignmentgroup": "True",
                  "bingroup": "x",
                  "hovertemplate": "calories=120<br>rating=%{x}<br>count=%{y}<extra></extra>",
                  "legendgroup": "120",
                  "marker": {
                    "color": "#EF553B",
                    "pattern": {
                      "shape": ""
                    }
                  },
                  "name": "120",
                  "nbinsx": 9,
                  "offsetgroup": "120",
                  "orientation": "v",
                  "showlegend": true,
                  "type": "histogram",
                  "x": [
                    33.98,
                    18.04,
                    19.82,
                    40.92,
                    41.02,
                    45.81,
                    21.87,
                    29.92,
                    37.84,
                    39.26
                  ],
                  "xaxis": "x",
                  "yaxis": "y"
                },
                {
                  "alignmentgroup": "True",
                  "bingroup": "x",
                  "hovertemplate": "calories=50<br>rating=%{x}<br>count=%{y}<extra></extra>",
                  "legendgroup": "50",
                  "marker": {
                    "color": "#00cc96",
                    "pattern": {
                      "shape": ""
                    }
                  },
                  "name": "50",
                  "nbinsx": 9,
                  "offsetgroup": "50",
                  "orientation": "v",
                  "showlegend": true,
                  "type": "histogram",
                  "x": [
                    93.7,
                    60.76,
                    63.01
                  ],
                  "xaxis": "x",
                  "yaxis": "y"
                },
                {
                  "alignmentgroup": "True",
                  "bingroup": "x",
                  "hovertemplate": "calories=110<br>rating=%{x}<br>count=%{y}<extra></extra>",
                  "legendgroup": "110",
                  "marker": {
                    "color": "#ab63fa",
                    "pattern": {
                      "shape": ""
                    }
                  },
                  "name": "110",
                  "nbinsx": 9,
                  "offsetgroup": "110",
                  "orientation": "v",
                  "showlegend": true,
                  "type": "histogram",
                  "x": [
                    34.38,
                    29.51,
                    33.17,
                    50.76,
                    40.4,
                    22.74,
                    41.45,
                    35.78,
                    22.4,
                    40.45,
                    46.9,
                    32.21,
                    31.44,
                    28.03,
                    23.8,
                    53.37,
                    31.07,
                    28.74,
                    36.52,
                    39.24,
                    26.73,
                    42,
                    40.56,
                    31.23,
                    53.13,
                    38.84,
                    39.11,
                    27.75,
                    36.19
                  ],
                  "xaxis": "x",
                  "yaxis": "y"
                },
                {
                  "alignmentgroup": "True",
                  "bingroup": "x",
                  "hovertemplate": "calories=130<br>rating=%{x}<br>count=%{y}<extra></extra>",
                  "legendgroup": "130",
                  "marker": {
                    "color": "#FFA15A",
                    "pattern": {
                      "shape": ""
                    }
                  },
                  "name": "130",
                  "nbinsx": 9,
                  "offsetgroup": "130",
                  "orientation": "v",
                  "showlegend": true,
                  "type": "histogram",
                  "x": [
                    37.04,
                    30.45
                  ],
                  "xaxis": "x",
                  "yaxis": "y"
                },
                {
                  "alignmentgroup": "True",
                  "bingroup": "x",
                  "hovertemplate": "calories=90<br>rating=%{x}<br>count=%{y}<extra></extra>",
                  "legendgroup": "90",
                  "marker": {
                    "color": "#19d3f3",
                    "pattern": {
                      "shape": ""
                    }
                  },
                  "name": "90",
                  "nbinsx": 9,
                  "offsetgroup": "90",
                  "orientation": "v",
                  "showlegend": true,
                  "type": "histogram",
                  "x": [
                    49.12,
                    53.31,
                    59.64,
                    55.33,
                    74.47,
                    72.8,
                    59.36
                  ],
                  "xaxis": "x",
                  "yaxis": "y"
                },
                {
                  "alignmentgroup": "True",
                  "bingroup": "x",
                  "hovertemplate": "calories=100<br>rating=%{x}<br>count=%{y}<extra></extra>",
                  "legendgroup": "100",
                  "marker": {
                    "color": "#FF6692",
                    "pattern": {
                      "shape": ""
                    }
                  },
                  "name": "100",
                  "nbinsx": 9,
                  "offsetgroup": "100",
                  "orientation": "v",
                  "showlegend": true,
                  "type": "histogram",
                  "x": [
                    45.86,
                    64.53,
                    36.18,
                    44.33,
                    58.35,
                    35.25,
                    52.08,
                    45.33,
                    54.85,
                    40.11,
                    41.5,
                    49.51,
                    50.83,
                    39.7,
                    46.66,
                    49.79,
                    51.59
                  ],
                  "xaxis": "x",
                  "yaxis": "y"
                },
                {
                  "alignmentgroup": "True",
                  "bingroup": "x",
                  "hovertemplate": "calories=140<br>rating=%{x}<br>count=%{y}<extra></extra>",
                  "legendgroup": "140",
                  "marker": {
                    "color": "#B6E880",
                    "pattern": {
                      "shape": ""
                    }
                  },
                  "name": "140",
                  "nbinsx": 9,
                  "offsetgroup": "140",
                  "orientation": "v",
                  "showlegend": true,
                  "type": "histogram",
                  "x": [
                    36.47,
                    40.69,
                    28.59
                  ],
                  "xaxis": "x",
                  "yaxis": "y"
                },
                {
                  "alignmentgroup": "True",
                  "bingroup": "x",
                  "hovertemplate": "calories=150<br>rating=%{x}<br>count=%{y}<extra></extra>",
                  "legendgroup": "150",
                  "marker": {
                    "color": "#FF97FF",
                    "pattern": {
                      "shape": ""
                    }
                  },
                  "name": "150",
                  "nbinsx": 9,
                  "offsetgroup": "150",
                  "orientation": "v",
                  "showlegend": true,
                  "type": "histogram",
                  "x": [
                    37.14,
                    34.14
                  ],
                  "xaxis": "x",
                  "yaxis": "y"
                },
                {
                  "alignmentgroup": "True",
                  "bingroup": "x",
                  "hovertemplate": "calories=160<br>rating=%{x}<br>count=%{y}<extra></extra>",
                  "legendgroup": "160",
                  "marker": {
                    "color": "#FECB52",
                    "pattern": {
                      "shape": ""
                    }
                  },
                  "name": "160",
                  "nbinsx": 9,
                  "offsetgroup": "160",
                  "orientation": "v",
                  "showlegend": true,
                  "type": "histogram",
                  "x": [
                    30.31
                  ],
                  "xaxis": "x",
                  "yaxis": "y"
                },
                {
                  "alignmentgroup": "True",
                  "bingroup": "x",
                  "hovertemplate": "calories=80<br>rating=%{x}<br>count=%{y}<extra></extra>",
                  "legendgroup": "80",
                  "marker": {
                    "color": "#636efa",
                    "pattern": {
                      "shape": ""
                    }
                  },
                  "name": "80",
                  "nbinsx": 9,
                  "offsetgroup": "80",
                  "orientation": "v",
                  "showlegend": true,
                  "type": "histogram",
                  "x": [
                    68.24
                  ],
                  "xaxis": "x",
                  "yaxis": "y"
                }
              ],
              "layout": {
                "barmode": "relative",
                "legend": {
                  "title": {
                    "text": "calories"
                  },
                  "tracegroupgap": 0
                },
                "template": {
                  "data": {
                    "bar": [
                      {
                        "error_x": {
                          "color": "#2a3f5f"
                        },
                        "error_y": {
                          "color": "#2a3f5f"
                        },
                        "marker": {
                          "line": {
                            "color": "#E5ECF6",
                            "width": 0.5
                          },
                          "pattern": {
                            "fillmode": "overlay",
                            "size": 10,
                            "solidity": 0.2
                          }
                        },
                        "type": "bar"
                      }
                    ],
                    "barpolar": [
                      {
                        "marker": {
                          "line": {
                            "color": "#E5ECF6",
                            "width": 0.5
                          },
                          "pattern": {
                            "fillmode": "overlay",
                            "size": 10,
                            "solidity": 0.2
                          }
                        },
                        "type": "barpolar"
                      }
                    ],
                    "carpet": [
                      {
                        "aaxis": {
                          "endlinecolor": "#2a3f5f",
                          "gridcolor": "white",
                          "linecolor": "white",
                          "minorgridcolor": "white",
                          "startlinecolor": "#2a3f5f"
                        },
                        "baxis": {
                          "endlinecolor": "#2a3f5f",
                          "gridcolor": "white",
                          "linecolor": "white",
                          "minorgridcolor": "white",
                          "startlinecolor": "#2a3f5f"
                        },
                        "type": "carpet"
                      }
                    ],
                    "choropleth": [
                      {
                        "colorbar": {
                          "outlinewidth": 0,
                          "ticks": ""
                        },
                        "type": "choropleth"
                      }
                    ],
                    "contour": [
                      {
                        "colorbar": {
                          "outlinewidth": 0,
                          "ticks": ""
                        },
                        "colorscale": [
                          [
                            0,
                            "#0d0887"
                          ],
                          [
                            0.1111111111111111,
                            "#46039f"
                          ],
                          [
                            0.2222222222222222,
                            "#7201a8"
                          ],
                          [
                            0.3333333333333333,
                            "#9c179e"
                          ],
                          [
                            0.4444444444444444,
                            "#bd3786"
                          ],
                          [
                            0.5555555555555556,
                            "#d8576b"
                          ],
                          [
                            0.6666666666666666,
                            "#ed7953"
                          ],
                          [
                            0.7777777777777778,
                            "#fb9f3a"
                          ],
                          [
                            0.8888888888888888,
                            "#fdca26"
                          ],
                          [
                            1,
                            "#f0f921"
                          ]
                        ],
                        "type": "contour"
                      }
                    ],
                    "contourcarpet": [
                      {
                        "colorbar": {
                          "outlinewidth": 0,
                          "ticks": ""
                        },
                        "type": "contourcarpet"
                      }
                    ],
                    "heatmap": [
                      {
                        "colorbar": {
                          "outlinewidth": 0,
                          "ticks": ""
                        },
                        "colorscale": [
                          [
                            0,
                            "#0d0887"
                          ],
                          [
                            0.1111111111111111,
                            "#46039f"
                          ],
                          [
                            0.2222222222222222,
                            "#7201a8"
                          ],
                          [
                            0.3333333333333333,
                            "#9c179e"
                          ],
                          [
                            0.4444444444444444,
                            "#bd3786"
                          ],
                          [
                            0.5555555555555556,
                            "#d8576b"
                          ],
                          [
                            0.6666666666666666,
                            "#ed7953"
                          ],
                          [
                            0.7777777777777778,
                            "#fb9f3a"
                          ],
                          [
                            0.8888888888888888,
                            "#fdca26"
                          ],
                          [
                            1,
                            "#f0f921"
                          ]
                        ],
                        "type": "heatmap"
                      }
                    ],
                    "heatmapgl": [
                      {
                        "colorbar": {
                          "outlinewidth": 0,
                          "ticks": ""
                        },
                        "colorscale": [
                          [
                            0,
                            "#0d0887"
                          ],
                          [
                            0.1111111111111111,
                            "#46039f"
                          ],
                          [
                            0.2222222222222222,
                            "#7201a8"
                          ],
                          [
                            0.3333333333333333,
                            "#9c179e"
                          ],
                          [
                            0.4444444444444444,
                            "#bd3786"
                          ],
                          [
                            0.5555555555555556,
                            "#d8576b"
                          ],
                          [
                            0.6666666666666666,
                            "#ed7953"
                          ],
                          [
                            0.7777777777777778,
                            "#fb9f3a"
                          ],
                          [
                            0.8888888888888888,
                            "#fdca26"
                          ],
                          [
                            1,
                            "#f0f921"
                          ]
                        ],
                        "type": "heatmapgl"
                      }
                    ],
                    "histogram": [
                      {
                        "marker": {
                          "pattern": {
                            "fillmode": "overlay",
                            "size": 10,
                            "solidity": 0.2
                          }
                        },
                        "type": "histogram"
                      }
                    ],
                    "histogram2d": [
                      {
                        "colorbar": {
                          "outlinewidth": 0,
                          "ticks": ""
                        },
                        "colorscale": [
                          [
                            0,
                            "#0d0887"
                          ],
                          [
                            0.1111111111111111,
                            "#46039f"
                          ],
                          [
                            0.2222222222222222,
                            "#7201a8"
                          ],
                          [
                            0.3333333333333333,
                            "#9c179e"
                          ],
                          [
                            0.4444444444444444,
                            "#bd3786"
                          ],
                          [
                            0.5555555555555556,
                            "#d8576b"
                          ],
                          [
                            0.6666666666666666,
                            "#ed7953"
                          ],
                          [
                            0.7777777777777778,
                            "#fb9f3a"
                          ],
                          [
                            0.8888888888888888,
                            "#fdca26"
                          ],
                          [
                            1,
                            "#f0f921"
                          ]
                        ],
                        "type": "histogram2d"
                      }
                    ],
                    "histogram2dcontour": [
                      {
                        "colorbar": {
                          "outlinewidth": 0,
                          "ticks": ""
                        },
                        "colorscale": [
                          [
                            0,
                            "#0d0887"
                          ],
                          [
                            0.1111111111111111,
                            "#46039f"
                          ],
                          [
                            0.2222222222222222,
                            "#7201a8"
                          ],
                          [
                            0.3333333333333333,
                            "#9c179e"
                          ],
                          [
                            0.4444444444444444,
                            "#bd3786"
                          ],
                          [
                            0.5555555555555556,
                            "#d8576b"
                          ],
                          [
                            0.6666666666666666,
                            "#ed7953"
                          ],
                          [
                            0.7777777777777778,
                            "#fb9f3a"
                          ],
                          [
                            0.8888888888888888,
                            "#fdca26"
                          ],
                          [
                            1,
                            "#f0f921"
                          ]
                        ],
                        "type": "histogram2dcontour"
                      }
                    ],
                    "mesh3d": [
                      {
                        "colorbar": {
                          "outlinewidth": 0,
                          "ticks": ""
                        },
                        "type": "mesh3d"
                      }
                    ],
                    "parcoords": [
                      {
                        "line": {
                          "colorbar": {
                            "outlinewidth": 0,
                            "ticks": ""
                          }
                        },
                        "type": "parcoords"
                      }
                    ],
                    "pie": [
                      {
                        "automargin": true,
                        "type": "pie"
                      }
                    ],
                    "scatter": [
                      {
                        "fillpattern": {
                          "fillmode": "overlay",
                          "size": 10,
                          "solidity": 0.2
                        },
                        "type": "scatter"
                      }
                    ],
                    "scatter3d": [
                      {
                        "line": {
                          "colorbar": {
                            "outlinewidth": 0,
                            "ticks": ""
                          }
                        },
                        "marker": {
                          "colorbar": {
                            "outlinewidth": 0,
                            "ticks": ""
                          }
                        },
                        "type": "scatter3d"
                      }
                    ],
                    "scattercarpet": [
                      {
                        "marker": {
                          "colorbar": {
                            "outlinewidth": 0,
                            "ticks": ""
                          }
                        },
                        "type": "scattercarpet"
                      }
                    ],
                    "scattergeo": [
                      {
                        "marker": {
                          "colorbar": {
                            "outlinewidth": 0,
                            "ticks": ""
                          }
                        },
                        "type": "scattergeo"
                      }
                    ],
                    "scattergl": [
                      {
                        "marker": {
                          "colorbar": {
                            "outlinewidth": 0,
                            "ticks": ""
                          }
                        },
                        "type": "scattergl"
                      }
                    ],
                    "scattermapbox": [
                      {
                        "marker": {
                          "colorbar": {
                            "outlinewidth": 0,
                            "ticks": ""
                          }
                        },
                        "type": "scattermapbox"
                      }
                    ],
                    "scatterpolar": [
                      {
                        "marker": {
                          "colorbar": {
                            "outlinewidth": 0,
                            "ticks": ""
                          }
                        },
                        "type": "scatterpolar"
                      }
                    ],
                    "scatterpolargl": [
                      {
                        "marker": {
                          "colorbar": {
                            "outlinewidth": 0,
                            "ticks": ""
                          }
                        },
                        "type": "scatterpolargl"
                      }
                    ],
                    "scatterternary": [
                      {
                        "marker": {
                          "colorbar": {
                            "outlinewidth": 0,
                            "ticks": ""
                          }
                        },
                        "type": "scatterternary"
                      }
                    ],
                    "surface": [
                      {
                        "colorbar": {
                          "outlinewidth": 0,
                          "ticks": ""
                        },
                        "colorscale": [
                          [
                            0,
                            "#0d0887"
                          ],
                          [
                            0.1111111111111111,
                            "#46039f"
                          ],
                          [
                            0.2222222222222222,
                            "#7201a8"
                          ],
                          [
                            0.3333333333333333,
                            "#9c179e"
                          ],
                          [
                            0.4444444444444444,
                            "#bd3786"
                          ],
                          [
                            0.5555555555555556,
                            "#d8576b"
                          ],
                          [
                            0.6666666666666666,
                            "#ed7953"
                          ],
                          [
                            0.7777777777777778,
                            "#fb9f3a"
                          ],
                          [
                            0.8888888888888888,
                            "#fdca26"
                          ],
                          [
                            1,
                            "#f0f921"
                          ]
                        ],
                        "type": "surface"
                      }
                    ],
                    "table": [
                      {
                        "cells": {
                          "fill": {
                            "color": "#EBF0F8"
                          },
                          "line": {
                            "color": "white"
                          }
                        },
                        "header": {
                          "fill": {
                            "color": "#C8D4E3"
                          },
                          "line": {
                            "color": "white"
                          }
                        },
                        "type": "table"
                      }
                    ]
                  },
                  "layout": {
                    "annotationdefaults": {
                      "arrowcolor": "#2a3f5f",
                      "arrowhead": 0,
                      "arrowwidth": 1
                    },
                    "autotypenumbers": "strict",
                    "coloraxis": {
                      "colorbar": {
                        "outlinewidth": 0,
                        "ticks": ""
                      }
                    },
                    "colorscale": {
                      "diverging": [
                        [
                          0,
                          "#8e0152"
                        ],
                        [
                          0.1,
                          "#c51b7d"
                        ],
                        [
                          0.2,
                          "#de77ae"
                        ],
                        [
                          0.3,
                          "#f1b6da"
                        ],
                        [
                          0.4,
                          "#fde0ef"
                        ],
                        [
                          0.5,
                          "#f7f7f7"
                        ],
                        [
                          0.6,
                          "#e6f5d0"
                        ],
                        [
                          0.7,
                          "#b8e186"
                        ],
                        [
                          0.8,
                          "#7fbc41"
                        ],
                        [
                          0.9,
                          "#4d9221"
                        ],
                        [
                          1,
                          "#276419"
                        ]
                      ],
                      "sequential": [
                        [
                          0,
                          "#0d0887"
                        ],
                        [
                          0.1111111111111111,
                          "#46039f"
                        ],
                        [
                          0.2222222222222222,
                          "#7201a8"
                        ],
                        [
                          0.3333333333333333,
                          "#9c179e"
                        ],
                        [
                          0.4444444444444444,
                          "#bd3786"
                        ],
                        [
                          0.5555555555555556,
                          "#d8576b"
                        ],
                        [
                          0.6666666666666666,
                          "#ed7953"
                        ],
                        [
                          0.7777777777777778,
                          "#fb9f3a"
                        ],
                        [
                          0.8888888888888888,
                          "#fdca26"
                        ],
                        [
                          1,
                          "#f0f921"
                        ]
                      ],
                      "sequentialminus": [
                        [
                          0,
                          "#0d0887"
                        ],
                        [
                          0.1111111111111111,
                          "#46039f"
                        ],
                        [
                          0.2222222222222222,
                          "#7201a8"
                        ],
                        [
                          0.3333333333333333,
                          "#9c179e"
                        ],
                        [
                          0.4444444444444444,
                          "#bd3786"
                        ],
                        [
                          0.5555555555555556,
                          "#d8576b"
                        ],
                        [
                          0.6666666666666666,
                          "#ed7953"
                        ],
                        [
                          0.7777777777777778,
                          "#fb9f3a"
                        ],
                        [
                          0.8888888888888888,
                          "#fdca26"
                        ],
                        [
                          1,
                          "#f0f921"
                        ]
                      ]
                    },
                    "colorway": [
                      "#636efa",
                      "#EF553B",
                      "#00cc96",
                      "#ab63fa",
                      "#FFA15A",
                      "#19d3f3",
                      "#FF6692",
                      "#B6E880",
                      "#FF97FF",
                      "#FECB52"
                    ],
                    "font": {
                      "color": "#2a3f5f"
                    },
                    "geo": {
                      "bgcolor": "white",
                      "lakecolor": "white",
                      "landcolor": "#E5ECF6",
                      "showlakes": true,
                      "showland": true,
                      "subunitcolor": "white"
                    },
                    "hoverlabel": {
                      "align": "left"
                    },
                    "hovermode": "closest",
                    "mapbox": {
                      "style": "light"
                    },
                    "paper_bgcolor": "white",
                    "plot_bgcolor": "#E5ECF6",
                    "polar": {
                      "angularaxis": {
                        "gridcolor": "white",
                        "linecolor": "white",
                        "ticks": ""
                      },
                      "bgcolor": "#E5ECF6",
                      "radialaxis": {
                        "gridcolor": "white",
                        "linecolor": "white",
                        "ticks": ""
                      }
                    },
                    "scene": {
                      "xaxis": {
                        "backgroundcolor": "#E5ECF6",
                        "gridcolor": "white",
                        "gridwidth": 2,
                        "linecolor": "white",
                        "showbackground": true,
                        "ticks": "",
                        "zerolinecolor": "white"
                      },
                      "yaxis": {
                        "backgroundcolor": "#E5ECF6",
                        "gridcolor": "white",
                        "gridwidth": 2,
                        "linecolor": "white",
                        "showbackground": true,
                        "ticks": "",
                        "zerolinecolor": "white"
                      },
                      "zaxis": {
                        "backgroundcolor": "#E5ECF6",
                        "gridcolor": "white",
                        "gridwidth": 2,
                        "linecolor": "white",
                        "showbackground": true,
                        "ticks": "",
                        "zerolinecolor": "white"
                      }
                    },
                    "shapedefaults": {
                      "line": {
                        "color": "#2a3f5f"
                      }
                    },
                    "ternary": {
                      "aaxis": {
                        "gridcolor": "white",
                        "linecolor": "white",
                        "ticks": ""
                      },
                      "baxis": {
                        "gridcolor": "white",
                        "linecolor": "white",
                        "ticks": ""
                      },
                      "bgcolor": "#E5ECF6",
                      "caxis": {
                        "gridcolor": "white",
                        "linecolor": "white",
                        "ticks": ""
                      }
                    },
                    "title": {
                      "x": 0.05
                    },
                    "xaxis": {
                      "automargin": true,
                      "gridcolor": "white",
                      "linecolor": "white",
                      "ticks": "",
                      "title": {
                        "standoff": 15
                      },
                      "zerolinecolor": "white",
                      "zerolinewidth": 2
                    },
                    "yaxis": {
                      "automargin": true,
                      "gridcolor": "white",
                      "linecolor": "white",
                      "ticks": "",
                      "title": {
                        "standoff": 15
                      },
                      "zerolinecolor": "white",
                      "zerolinewidth": 2
                    }
                  }
                },
                "title": {
                  "text": "Rating distribution"
                },
                "xaxis": {
                  "anchor": "y",
                  "domain": [
                    0,
                    1
                  ],
                  "title": {
                    "text": "rating"
                  }
                },
                "yaxis": {
                  "anchor": "x",
                  "domain": [
                    0,
                    1
                  ],
                  "title": {
                    "text": "count"
                  }
                }
              }
            }
          },
          "metadata": {},
          "output_type": "display_data"
        }
      ],
      "source": [
        "fig = px.histogram(df, x='rating', title='Rating distribution',nbins=9,color='calories') #nbins กำหนดจำนวนกล่องที่จะให้ show , ใส่สีแบ่งได้ตาม column เท่านั้น\n",
        "fig.show()"
      ]
    },
    {
      "cell_type": "code",
      "execution_count": 8,
      "metadata": {
        "colab": {
          "base_uri": "https://localhost:8080/",
          "height": 899
        },
        "id": "Y4G2ASAtgySR",
        "outputId": "06adf155-0a18-40f4-c1ba-03f5af3e3318"
      },
      "outputs": [
        {
          "data": {
            "application/vnd.plotly.v1+json": {
              "config": {
                "plotlyServerURL": "https://plot.ly"
              },
              "data": [
                {
                  "hovertemplate": "<b>%{hovertext}</b><br><br>mfr=Nabisco<br>shelf=Top<br>type=Cold<br>sugars=%{x}<br>rating=%{y}<br>calories=%{marker.size}<extra></extra>",
                  "hovertext": [
                    "100% Bran"
                  ],
                  "legendgroup": "Nabisco",
                  "marker": {
                    "color": "#636efa",
                    "size": [
                      70
                    ],
                    "sizemode": "area",
                    "sizeref": 0.4,
                    "symbol": "circle"
                  },
                  "mode": "markers",
                  "name": "Nabisco",
                  "orientation": "v",
                  "showlegend": true,
                  "type": "scatter",
                  "x": [
                    6
                  ],
                  "xaxis": "x5",
                  "y": [
                    68.4
                  ],
                  "yaxis": "y5"
                },
                {
                  "hovertemplate": "<b>%{hovertext}</b><br><br>mfr=Nabisco<br>shelf=Middle<br>type=Cold<br>sugars=%{x}<br>rating=%{y}<br>calories=%{marker.size}<extra></extra>",
                  "hovertext": [
                    "Strawberry Fruit Wheats"
                  ],
                  "legendgroup": "Nabisco",
                  "marker": {
                    "color": "#636efa",
                    "size": [
                      90
                    ],
                    "sizemode": "area",
                    "sizeref": 0.4,
                    "symbol": "circle"
                  },
                  "mode": "markers",
                  "name": "Nabisco",
                  "orientation": "v",
                  "showlegend": false,
                  "type": "scatter",
                  "x": [
                    5
                  ],
                  "xaxis": "x3",
                  "y": [
                    59.36
                  ],
                  "yaxis": "y3"
                },
                {
                  "hovertemplate": "<b>%{hovertext}</b><br><br>mfr=Nabisco<br>shelf=Middle<br>type=Hot<br>sugars=%{x}<br>rating=%{y}<br>calories=%{marker.size}<extra></extra>",
                  "hovertext": [
                    "Cream of Wheat (Quick)"
                  ],
                  "legendgroup": "Nabisco",
                  "marker": {
                    "color": "#636efa",
                    "size": [
                      100
                    ],
                    "sizemode": "area",
                    "sizeref": 0.4,
                    "symbol": "circle"
                  },
                  "mode": "markers",
                  "name": "Nabisco",
                  "orientation": "v",
                  "showlegend": false,
                  "type": "scatter",
                  "x": [
                    0
                  ],
                  "xaxis": "x4",
                  "y": [
                    64.53
                  ],
                  "yaxis": "y4"
                },
                {
                  "hovertemplate": "<b>%{hovertext}</b><br><br>mfr=Nabisco<br>shelf=Bottom<br>type=Cold<br>sugars=%{x}<br>rating=%{y}<br>calories=%{marker.size}<extra></extra>",
                  "hovertext": [
                    "Shredded Wheat",
                    "Shredded Wheat 'n'Bran",
                    "Shredded Wheat spoon size"
                  ],
                  "legendgroup": "Nabisco",
                  "marker": {
                    "color": "#636efa",
                    "size": [
                      80,
                      90,
                      90
                    ],
                    "sizemode": "area",
                    "sizeref": 0.4,
                    "symbol": "circle"
                  },
                  "mode": "markers",
                  "name": "Nabisco",
                  "orientation": "v",
                  "showlegend": false,
                  "type": "scatter",
                  "x": [
                    0,
                    0,
                    0
                  ],
                  "xaxis": "x",
                  "y": [
                    68.24,
                    74.47,
                    72.8
                  ],
                  "yaxis": "y"
                },
                {
                  "hovertemplate": "<b>%{hovertext}</b><br><br>mfr=Quaker Oats<br>shelf=Top<br>type=Cold<br>sugars=%{x}<br>rating=%{y}<br>calories=%{marker.size}<extra></extra>",
                  "hovertext": [
                    "100% Natural Bran",
                    "Puffed Rice",
                    "Puffed Wheat",
                    "Quaker Oat Squares"
                  ],
                  "legendgroup": "Quaker Oats",
                  "marker": {
                    "color": "#EF553B",
                    "size": [
                      120,
                      50,
                      50,
                      100
                    ],
                    "sizemode": "area",
                    "sizeref": 0.4,
                    "symbol": "circle"
                  },
                  "mode": "markers",
                  "name": "Quaker Oats",
                  "orientation": "v",
                  "showlegend": true,
                  "type": "scatter",
                  "x": [
                    8,
                    0,
                    0,
                    6
                  ],
                  "xaxis": "x5",
                  "y": [
                    33.98,
                    60.76,
                    63.01,
                    49.51
                  ],
                  "yaxis": "y5"
                },
                {
                  "hovertemplate": "<b>%{hovertext}</b><br><br>mfr=Quaker Oats<br>shelf=Middle<br>type=Cold<br>sugars=%{x}<br>rating=%{y}<br>calories=%{marker.size}<extra></extra>",
                  "hovertext": [
                    "Cap'n'Crunch",
                    "Honey Graham Ohs",
                    "Life"
                  ],
                  "legendgroup": "Quaker Oats",
                  "marker": {
                    "color": "#EF553B",
                    "size": [
                      120,
                      120,
                      100
                    ],
                    "sizemode": "area",
                    "sizeref": 0.4,
                    "symbol": "circle"
                  },
                  "mode": "markers",
                  "name": "Quaker Oats",
                  "orientation": "v",
                  "showlegend": false,
                  "type": "scatter",
                  "x": [
                    12,
                    11,
                    6
                  ],
                  "xaxis": "x3",
                  "y": [
                    18.04,
                    21.87,
                    45.33
                  ],
                  "yaxis": "y3"
                },
                {
                  "hovertemplate": "<b>%{hovertext}</b><br><br>mfr=Quaker Oats<br>shelf=Bottom<br>type=Hot<br>sugars=%{x}<br>rating=%{y}<br>calories=%{marker.size}<extra></extra>",
                  "hovertext": [
                    "Quaker Oatmeal"
                  ],
                  "legendgroup": "Quaker Oats",
                  "marker": {
                    "color": "#EF553B",
                    "size": [
                      100
                    ],
                    "sizemode": "area",
                    "sizeref": 0.4,
                    "symbol": "circle"
                  },
                  "mode": "markers",
                  "name": "Quaker Oats",
                  "orientation": "v",
                  "showlegend": false,
                  "type": "scatter",
                  "x": [
                    -1
                  ],
                  "xaxis": "x2",
                  "y": [
                    50.83
                  ],
                  "yaxis": "y2"
                },
                {
                  "hovertemplate": "<b>%{hovertext}</b><br><br>mfr=Kellogs<br>shelf=Top<br>type=Cold<br>sugars=%{x}<br>rating=%{y}<br>calories=%{marker.size}<extra></extra>",
                  "hovertext": [
                    "All-Bran",
                    "All-Bran with Extra Fiber",
                    "Cracklin' Oat Bran",
                    "Crispix",
                    "Fruitful Bran",
                    "Just Right Crunchy  Nuggets",
                    "Just Right Fruit & Nut",
                    "Mueslix Crispy Blend",
                    "Nutri-Grain Almond-Raisin",
                    "Nutri-grain Wheat",
                    "Product 19",
                    "Raisin Squares"
                  ],
                  "legendgroup": "Kellogs",
                  "marker": {
                    "color": "#00cc96",
                    "size": [
                      70,
                      50,
                      110,
                      110,
                      120,
                      110,
                      140,
                      160,
                      140,
                      90,
                      100,
                      90
                    ],
                    "sizemode": "area",
                    "sizeref": 0.4,
                    "symbol": "circle"
                  },
                  "mode": "markers",
                  "name": "Kellogs",
                  "orientation": "v",
                  "showlegend": true,
                  "type": "scatter",
                  "x": [
                    5,
                    0,
                    7,
                    3,
                    12,
                    6,
                    9,
                    13,
                    7,
                    2,
                    3,
                    6
                  ],
                  "xaxis": "x5",
                  "y": [
                    59.43,
                    93.7,
                    40.45,
                    46.9,
                    41.02,
                    36.52,
                    36.47,
                    30.31,
                    40.69,
                    59.64,
                    41.5,
                    55.33
                  ],
                  "yaxis": "y5"
                },
                {
                  "hovertemplate": "<b>%{hovertext}</b><br><br>mfr=Kellogs<br>shelf=Middle<br>type=Cold<br>sugars=%{x}<br>rating=%{y}<br>calories=%{marker.size}<extra></extra>",
                  "hovertext": [
                    "Apple Jacks",
                    "Corn Pops",
                    "Froot Loops",
                    "Frosted Mini-Wheats",
                    "Nut&Honey Crunch",
                    "Raisin Bran",
                    "Smacks"
                  ],
                  "legendgroup": "Kellogs",
                  "marker": {
                    "color": "#00cc96",
                    "size": [
                      110,
                      110,
                      110,
                      100,
                      120,
                      120,
                      110
                    ],
                    "sizemode": "area",
                    "sizeref": 0.4,
                    "symbol": "circle"
                  },
                  "mode": "markers",
                  "name": "Kellogs",
                  "orientation": "v",
                  "showlegend": false,
                  "type": "scatter",
                  "x": [
                    14,
                    12,
                    13,
                    7,
                    9,
                    12,
                    15
                  ],
                  "xaxis": "x3",
                  "y": [
                    33.17,
                    35.78,
                    32.21,
                    58.35,
                    29.92,
                    39.26,
                    31.23
                  ],
                  "yaxis": "y3"
                },
                {
                  "hovertemplate": "<b>%{hovertext}</b><br><br>mfr=Kellogs<br>shelf=Bottom<br>type=Cold<br>sugars=%{x}<br>rating=%{y}<br>calories=%{marker.size}<extra></extra>",
                  "hovertext": [
                    "Corn Flakes",
                    "Frosted Flakes",
                    "Rice Krispies",
                    "Special K"
                  ],
                  "legendgroup": "Kellogs",
                  "marker": {
                    "color": "#00cc96",
                    "size": [
                      100,
                      110,
                      110,
                      110
                    ],
                    "sizemode": "area",
                    "sizeref": 0.4,
                    "symbol": "circle"
                  },
                  "mode": "markers",
                  "name": "Kellogs",
                  "orientation": "v",
                  "showlegend": false,
                  "type": "scatter",
                  "x": [
                    2,
                    11,
                    3,
                    3
                  ],
                  "xaxis": "x",
                  "y": [
                    45.86,
                    31.44,
                    40.56,
                    53.13
                  ],
                  "yaxis": "y"
                },
                {
                  "hovertemplate": "<b>%{hovertext}</b><br><br>mfr=Ralston Purina<br>shelf=Top<br>type=Cold<br>sugars=%{x}<br>rating=%{y}<br>calories=%{marker.size}<extra></extra>",
                  "hovertext": [
                    "Almond Delight",
                    "Double Chex",
                    "Muesli Raisins, Dates, & Almonds",
                    "Muesli Raisins, Peaches, & Pecans"
                  ],
                  "legendgroup": "Ralston Purina",
                  "marker": {
                    "color": "#ab63fa",
                    "size": [
                      110,
                      100,
                      150,
                      150
                    ],
                    "sizemode": "area",
                    "sizeref": 0.4,
                    "symbol": "circle"
                  },
                  "mode": "markers",
                  "name": "Ralston Purina",
                  "orientation": "v",
                  "showlegend": true,
                  "type": "scatter",
                  "x": [
                    8,
                    5,
                    11,
                    11
                  ],
                  "xaxis": "x5",
                  "y": [
                    34.38,
                    44.33,
                    37.14,
                    34.14
                  ],
                  "yaxis": "y5"
                },
                {
                  "hovertemplate": "<b>%{hovertext}</b><br><br>mfr=Ralston Purina<br>shelf=Bottom<br>type=Cold<br>sugars=%{x}<br>rating=%{y}<br>calories=%{marker.size}<extra></extra>",
                  "hovertext": [
                    "Bran Chex",
                    "Corn Chex",
                    "Rice Chex",
                    "Wheat Chex"
                  ],
                  "legendgroup": "Ralston Purina",
                  "marker": {
                    "color": "#ab63fa",
                    "size": [
                      90,
                      110,
                      110,
                      100
                    ],
                    "sizemode": "area",
                    "sizeref": 0.4,
                    "symbol": "circle"
                  },
                  "mode": "markers",
                  "name": "Ralston Purina",
                  "orientation": "v",
                  "showlegend": false,
                  "type": "scatter",
                  "x": [
                    6,
                    3,
                    2,
                    3
                  ],
                  "xaxis": "x",
                  "y": [
                    49.12,
                    41.45,
                    42,
                    49.79
                  ],
                  "yaxis": "y"
                },
                {
                  "hovertemplate": "<b>%{hovertext}</b><br><br>mfr=General Mills<br>shelf=Top<br>type=Cold<br>sugars=%{x}<br>rating=%{y}<br>calories=%{marker.size}<extra></extra>",
                  "hovertext": [
                    "Basic 4",
                    "Clusters",
                    "Crispy Wheat & Raisins",
                    "Oatmeal Raisin Crisp",
                    "Raisin Nut Bran",
                    "Total Corn Flakes",
                    "Total Raisin Bran",
                    "Total Whole Grain",
                    "Triples"
                  ],
                  "legendgroup": "General Mills",
                  "marker": {
                    "color": "#FFA15A",
                    "size": [
                      130,
                      110,
                      100,
                      130,
                      100,
                      110,
                      140,
                      100,
                      110
                    ],
                    "sizemode": "area",
                    "sizeref": 0.4,
                    "symbol": "circle"
                  },
                  "mode": "markers",
                  "name": "General Mills",
                  "orientation": "v",
                  "showlegend": true,
                  "type": "scatter",
                  "x": [
                    8,
                    7,
                    10,
                    10,
                    8,
                    3,
                    14,
                    3,
                    3
                  ],
                  "xaxis": "x5",
                  "y": [
                    37.04,
                    40.4,
                    36.18,
                    30.45,
                    39.7,
                    38.84,
                    28.59,
                    46.66,
                    39.11
                  ],
                  "yaxis": "y5"
                },
                {
                  "hovertemplate": "<b>%{hovertext}</b><br><br>mfr=General Mills<br>shelf=Middle<br>type=Cold<br>sugars=%{x}<br>rating=%{y}<br>calories=%{marker.size}<extra></extra>",
                  "hovertext": [
                    "Cinnamon Toast Crunch",
                    "Cocoa Puffs",
                    "Count Chocula",
                    "Golden Grahams",
                    "Kix",
                    "Lucky Charms",
                    "Trix"
                  ],
                  "legendgroup": "General Mills",
                  "marker": {
                    "color": "#FFA15A",
                    "size": [
                      120,
                      110,
                      110,
                      110,
                      110,
                      110,
                      110
                    ],
                    "sizemode": "area",
                    "sizeref": 0.4,
                    "symbol": "circle"
                  },
                  "mode": "markers",
                  "name": "General Mills",
                  "orientation": "v",
                  "showlegend": false,
                  "type": "scatter",
                  "x": [
                    9,
                    13,
                    13,
                    9,
                    3,
                    12,
                    12
                  ],
                  "xaxis": "x3",
                  "y": [
                    19.82,
                    22.74,
                    22.4,
                    23.8,
                    39.24,
                    26.73,
                    27.75
                  ],
                  "yaxis": "y3"
                },
                {
                  "hovertemplate": "<b>%{hovertext}</b><br><br>mfr=General Mills<br>shelf=Bottom<br>type=Cold<br>sugars=%{x}<br>rating=%{y}<br>calories=%{marker.size}<extra></extra>",
                  "hovertext": [
                    "Apple Cinnamon Cheerios",
                    "Cheerios",
                    "Honey Nut Cheerios",
                    "Multi-Grain Cheerios",
                    "Wheaties",
                    "Wheaties Honey Gold"
                  ],
                  "legendgroup": "General Mills",
                  "marker": {
                    "color": "#FFA15A",
                    "size": [
                      110,
                      110,
                      110,
                      100,
                      100,
                      110
                    ],
                    "sizemode": "area",
                    "sizeref": 0.4,
                    "symbol": "circle"
                  },
                  "mode": "markers",
                  "name": "General Mills",
                  "orientation": "v",
                  "showlegend": false,
                  "type": "scatter",
                  "x": [
                    10,
                    1,
                    10,
                    6,
                    3,
                    8
                  ],
                  "xaxis": "x",
                  "y": [
                    29.51,
                    50.76,
                    31.07,
                    40.11,
                    51.59,
                    36.19
                  ],
                  "yaxis": "y"
                },
                {
                  "hovertemplate": "<b>%{hovertext}</b><br><br>mfr=Post<br>shelf=Top<br>type=Cold<br>sugars=%{x}<br>rating=%{y}<br>calories=%{marker.size}<extra></extra>",
                  "hovertext": [
                    "Bran Flakes",
                    "Fruit & Fibre Dates, Walnuts, and Oats",
                    "Grape Nuts Flakes",
                    "Grape-Nuts",
                    "Great Grains Pecan",
                    "Post Nat. Raisin Bran"
                  ],
                  "legendgroup": "Post",
                  "marker": {
                    "color": "#19d3f3",
                    "size": [
                      90,
                      120,
                      100,
                      110,
                      120,
                      120
                    ],
                    "sizemode": "area",
                    "sizeref": 0.4,
                    "symbol": "circle"
                  },
                  "mode": "markers",
                  "name": "Post",
                  "orientation": "v",
                  "showlegend": true,
                  "type": "scatter",
                  "x": [
                    5,
                    10,
                    5,
                    3,
                    4,
                    14
                  ],
                  "xaxis": "x5",
                  "y": [
                    53.31,
                    40.92,
                    52.08,
                    53.37,
                    45.81,
                    37.84
                  ],
                  "yaxis": "y5"
                },
                {
                  "hovertemplate": "<b>%{hovertext}</b><br><br>mfr=Post<br>shelf=Middle<br>type=Cold<br>sugars=%{x}<br>rating=%{y}<br>calories=%{marker.size}<extra></extra>",
                  "hovertext": [
                    "Fruity Pebbles"
                  ],
                  "legendgroup": "Post",
                  "marker": {
                    "color": "#19d3f3",
                    "size": [
                      110
                    ],
                    "sizemode": "area",
                    "sizeref": 0.4,
                    "symbol": "circle"
                  },
                  "mode": "markers",
                  "name": "Post",
                  "orientation": "v",
                  "showlegend": false,
                  "type": "scatter",
                  "x": [
                    12
                  ],
                  "xaxis": "x3",
                  "y": [
                    28.03
                  ],
                  "yaxis": "y3"
                },
                {
                  "hovertemplate": "<b>%{hovertext}</b><br><br>mfr=Post<br>shelf=Bottom<br>type=Cold<br>sugars=%{x}<br>rating=%{y}<br>calories=%{marker.size}<extra></extra>",
                  "hovertext": [
                    "Golden Crisp",
                    "Honey-comb"
                  ],
                  "legendgroup": "Post",
                  "marker": {
                    "color": "#19d3f3",
                    "size": [
                      100,
                      110
                    ],
                    "sizemode": "area",
                    "sizeref": 0.4,
                    "symbol": "circle"
                  },
                  "mode": "markers",
                  "name": "Post",
                  "orientation": "v",
                  "showlegend": false,
                  "type": "scatter",
                  "x": [
                    15,
                    11
                  ],
                  "xaxis": "x",
                  "y": [
                    35.25,
                    28.74
                  ],
                  "yaxis": "y"
                },
                {
                  "hovertemplate": "<b>%{hovertext}</b><br><br>mfr=AM Home Food<br>shelf=Middle<br>type=Hot<br>sugars=%{x}<br>rating=%{y}<br>calories=%{marker.size}<extra></extra>",
                  "hovertext": [
                    "Maypo"
                  ],
                  "legendgroup": "AM Home Food",
                  "marker": {
                    "color": "#FF6692",
                    "size": [
                      100
                    ],
                    "sizemode": "area",
                    "sizeref": 0.4,
                    "symbol": "circle"
                  },
                  "mode": "markers",
                  "name": "AM Home Food",
                  "orientation": "v",
                  "showlegend": true,
                  "type": "scatter",
                  "x": [
                    3
                  ],
                  "xaxis": "x4",
                  "y": [
                    54.85
                  ],
                  "yaxis": "y4"
                }
              ],
              "layout": {
                "annotations": [
                  {
                    "font": {},
                    "showarrow": false,
                    "text": "type=Cold",
                    "x": 0.24,
                    "xanchor": "center",
                    "xref": "paper",
                    "y": 0.9999999999999998,
                    "yanchor": "bottom",
                    "yref": "paper"
                  },
                  {
                    "font": {},
                    "showarrow": false,
                    "text": "type=Hot",
                    "x": 0.74,
                    "xanchor": "center",
                    "xref": "paper",
                    "y": 0.9999999999999998,
                    "yanchor": "bottom",
                    "yref": "paper"
                  },
                  {
                    "font": {},
                    "showarrow": false,
                    "text": "shelf=Bottom",
                    "textangle": 90,
                    "x": 0.98,
                    "xanchor": "left",
                    "xref": "paper",
                    "y": 0.15666666666666665,
                    "yanchor": "middle",
                    "yref": "paper"
                  },
                  {
                    "font": {},
                    "showarrow": false,
                    "text": "shelf=Middle",
                    "textangle": 90,
                    "x": 0.98,
                    "xanchor": "left",
                    "xref": "paper",
                    "y": 0.4999999999999999,
                    "yanchor": "middle",
                    "yref": "paper"
                  },
                  {
                    "font": {},
                    "showarrow": false,
                    "text": "shelf=Top",
                    "textangle": 90,
                    "x": 0.98,
                    "xanchor": "left",
                    "xref": "paper",
                    "y": 0.8433333333333332,
                    "yanchor": "middle",
                    "yref": "paper"
                  }
                ],
                "legend": {
                  "itemsizing": "constant",
                  "title": {
                    "text": "mfr"
                  },
                  "tracegroupgap": 0
                },
                "margin": {
                  "t": 60
                },
                "template": {
                  "data": {
                    "bar": [
                      {
                        "error_x": {
                          "color": "#2a3f5f"
                        },
                        "error_y": {
                          "color": "#2a3f5f"
                        },
                        "marker": {
                          "line": {
                            "color": "#E5ECF6",
                            "width": 0.5
                          },
                          "pattern": {
                            "fillmode": "overlay",
                            "size": 10,
                            "solidity": 0.2
                          }
                        },
                        "type": "bar"
                      }
                    ],
                    "barpolar": [
                      {
                        "marker": {
                          "line": {
                            "color": "#E5ECF6",
                            "width": 0.5
                          },
                          "pattern": {
                            "fillmode": "overlay",
                            "size": 10,
                            "solidity": 0.2
                          }
                        },
                        "type": "barpolar"
                      }
                    ],
                    "carpet": [
                      {
                        "aaxis": {
                          "endlinecolor": "#2a3f5f",
                          "gridcolor": "white",
                          "linecolor": "white",
                          "minorgridcolor": "white",
                          "startlinecolor": "#2a3f5f"
                        },
                        "baxis": {
                          "endlinecolor": "#2a3f5f",
                          "gridcolor": "white",
                          "linecolor": "white",
                          "minorgridcolor": "white",
                          "startlinecolor": "#2a3f5f"
                        },
                        "type": "carpet"
                      }
                    ],
                    "choropleth": [
                      {
                        "colorbar": {
                          "outlinewidth": 0,
                          "ticks": ""
                        },
                        "type": "choropleth"
                      }
                    ],
                    "contour": [
                      {
                        "colorbar": {
                          "outlinewidth": 0,
                          "ticks": ""
                        },
                        "colorscale": [
                          [
                            0,
                            "#0d0887"
                          ],
                          [
                            0.1111111111111111,
                            "#46039f"
                          ],
                          [
                            0.2222222222222222,
                            "#7201a8"
                          ],
                          [
                            0.3333333333333333,
                            "#9c179e"
                          ],
                          [
                            0.4444444444444444,
                            "#bd3786"
                          ],
                          [
                            0.5555555555555556,
                            "#d8576b"
                          ],
                          [
                            0.6666666666666666,
                            "#ed7953"
                          ],
                          [
                            0.7777777777777778,
                            "#fb9f3a"
                          ],
                          [
                            0.8888888888888888,
                            "#fdca26"
                          ],
                          [
                            1,
                            "#f0f921"
                          ]
                        ],
                        "type": "contour"
                      }
                    ],
                    "contourcarpet": [
                      {
                        "colorbar": {
                          "outlinewidth": 0,
                          "ticks": ""
                        },
                        "type": "contourcarpet"
                      }
                    ],
                    "heatmap": [
                      {
                        "colorbar": {
                          "outlinewidth": 0,
                          "ticks": ""
                        },
                        "colorscale": [
                          [
                            0,
                            "#0d0887"
                          ],
                          [
                            0.1111111111111111,
                            "#46039f"
                          ],
                          [
                            0.2222222222222222,
                            "#7201a8"
                          ],
                          [
                            0.3333333333333333,
                            "#9c179e"
                          ],
                          [
                            0.4444444444444444,
                            "#bd3786"
                          ],
                          [
                            0.5555555555555556,
                            "#d8576b"
                          ],
                          [
                            0.6666666666666666,
                            "#ed7953"
                          ],
                          [
                            0.7777777777777778,
                            "#fb9f3a"
                          ],
                          [
                            0.8888888888888888,
                            "#fdca26"
                          ],
                          [
                            1,
                            "#f0f921"
                          ]
                        ],
                        "type": "heatmap"
                      }
                    ],
                    "heatmapgl": [
                      {
                        "colorbar": {
                          "outlinewidth": 0,
                          "ticks": ""
                        },
                        "colorscale": [
                          [
                            0,
                            "#0d0887"
                          ],
                          [
                            0.1111111111111111,
                            "#46039f"
                          ],
                          [
                            0.2222222222222222,
                            "#7201a8"
                          ],
                          [
                            0.3333333333333333,
                            "#9c179e"
                          ],
                          [
                            0.4444444444444444,
                            "#bd3786"
                          ],
                          [
                            0.5555555555555556,
                            "#d8576b"
                          ],
                          [
                            0.6666666666666666,
                            "#ed7953"
                          ],
                          [
                            0.7777777777777778,
                            "#fb9f3a"
                          ],
                          [
                            0.8888888888888888,
                            "#fdca26"
                          ],
                          [
                            1,
                            "#f0f921"
                          ]
                        ],
                        "type": "heatmapgl"
                      }
                    ],
                    "histogram": [
                      {
                        "marker": {
                          "pattern": {
                            "fillmode": "overlay",
                            "size": 10,
                            "solidity": 0.2
                          }
                        },
                        "type": "histogram"
                      }
                    ],
                    "histogram2d": [
                      {
                        "colorbar": {
                          "outlinewidth": 0,
                          "ticks": ""
                        },
                        "colorscale": [
                          [
                            0,
                            "#0d0887"
                          ],
                          [
                            0.1111111111111111,
                            "#46039f"
                          ],
                          [
                            0.2222222222222222,
                            "#7201a8"
                          ],
                          [
                            0.3333333333333333,
                            "#9c179e"
                          ],
                          [
                            0.4444444444444444,
                            "#bd3786"
                          ],
                          [
                            0.5555555555555556,
                            "#d8576b"
                          ],
                          [
                            0.6666666666666666,
                            "#ed7953"
                          ],
                          [
                            0.7777777777777778,
                            "#fb9f3a"
                          ],
                          [
                            0.8888888888888888,
                            "#fdca26"
                          ],
                          [
                            1,
                            "#f0f921"
                          ]
                        ],
                        "type": "histogram2d"
                      }
                    ],
                    "histogram2dcontour": [
                      {
                        "colorbar": {
                          "outlinewidth": 0,
                          "ticks": ""
                        },
                        "colorscale": [
                          [
                            0,
                            "#0d0887"
                          ],
                          [
                            0.1111111111111111,
                            "#46039f"
                          ],
                          [
                            0.2222222222222222,
                            "#7201a8"
                          ],
                          [
                            0.3333333333333333,
                            "#9c179e"
                          ],
                          [
                            0.4444444444444444,
                            "#bd3786"
                          ],
                          [
                            0.5555555555555556,
                            "#d8576b"
                          ],
                          [
                            0.6666666666666666,
                            "#ed7953"
                          ],
                          [
                            0.7777777777777778,
                            "#fb9f3a"
                          ],
                          [
                            0.8888888888888888,
                            "#fdca26"
                          ],
                          [
                            1,
                            "#f0f921"
                          ]
                        ],
                        "type": "histogram2dcontour"
                      }
                    ],
                    "mesh3d": [
                      {
                        "colorbar": {
                          "outlinewidth": 0,
                          "ticks": ""
                        },
                        "type": "mesh3d"
                      }
                    ],
                    "parcoords": [
                      {
                        "line": {
                          "colorbar": {
                            "outlinewidth": 0,
                            "ticks": ""
                          }
                        },
                        "type": "parcoords"
                      }
                    ],
                    "pie": [
                      {
                        "automargin": true,
                        "type": "pie"
                      }
                    ],
                    "scatter": [
                      {
                        "fillpattern": {
                          "fillmode": "overlay",
                          "size": 10,
                          "solidity": 0.2
                        },
                        "type": "scatter"
                      }
                    ],
                    "scatter3d": [
                      {
                        "line": {
                          "colorbar": {
                            "outlinewidth": 0,
                            "ticks": ""
                          }
                        },
                        "marker": {
                          "colorbar": {
                            "outlinewidth": 0,
                            "ticks": ""
                          }
                        },
                        "type": "scatter3d"
                      }
                    ],
                    "scattercarpet": [
                      {
                        "marker": {
                          "colorbar": {
                            "outlinewidth": 0,
                            "ticks": ""
                          }
                        },
                        "type": "scattercarpet"
                      }
                    ],
                    "scattergeo": [
                      {
                        "marker": {
                          "colorbar": {
                            "outlinewidth": 0,
                            "ticks": ""
                          }
                        },
                        "type": "scattergeo"
                      }
                    ],
                    "scattergl": [
                      {
                        "marker": {
                          "colorbar": {
                            "outlinewidth": 0,
                            "ticks": ""
                          }
                        },
                        "type": "scattergl"
                      }
                    ],
                    "scattermapbox": [
                      {
                        "marker": {
                          "colorbar": {
                            "outlinewidth": 0,
                            "ticks": ""
                          }
                        },
                        "type": "scattermapbox"
                      }
                    ],
                    "scatterpolar": [
                      {
                        "marker": {
                          "colorbar": {
                            "outlinewidth": 0,
                            "ticks": ""
                          }
                        },
                        "type": "scatterpolar"
                      }
                    ],
                    "scatterpolargl": [
                      {
                        "marker": {
                          "colorbar": {
                            "outlinewidth": 0,
                            "ticks": ""
                          }
                        },
                        "type": "scatterpolargl"
                      }
                    ],
                    "scatterternary": [
                      {
                        "marker": {
                          "colorbar": {
                            "outlinewidth": 0,
                            "ticks": ""
                          }
                        },
                        "type": "scatterternary"
                      }
                    ],
                    "surface": [
                      {
                        "colorbar": {
                          "outlinewidth": 0,
                          "ticks": ""
                        },
                        "colorscale": [
                          [
                            0,
                            "#0d0887"
                          ],
                          [
                            0.1111111111111111,
                            "#46039f"
                          ],
                          [
                            0.2222222222222222,
                            "#7201a8"
                          ],
                          [
                            0.3333333333333333,
                            "#9c179e"
                          ],
                          [
                            0.4444444444444444,
                            "#bd3786"
                          ],
                          [
                            0.5555555555555556,
                            "#d8576b"
                          ],
                          [
                            0.6666666666666666,
                            "#ed7953"
                          ],
                          [
                            0.7777777777777778,
                            "#fb9f3a"
                          ],
                          [
                            0.8888888888888888,
                            "#fdca26"
                          ],
                          [
                            1,
                            "#f0f921"
                          ]
                        ],
                        "type": "surface"
                      }
                    ],
                    "table": [
                      {
                        "cells": {
                          "fill": {
                            "color": "#EBF0F8"
                          },
                          "line": {
                            "color": "white"
                          }
                        },
                        "header": {
                          "fill": {
                            "color": "#C8D4E3"
                          },
                          "line": {
                            "color": "white"
                          }
                        },
                        "type": "table"
                      }
                    ]
                  },
                  "layout": {
                    "annotationdefaults": {
                      "arrowcolor": "#2a3f5f",
                      "arrowhead": 0,
                      "arrowwidth": 1
                    },
                    "autotypenumbers": "strict",
                    "coloraxis": {
                      "colorbar": {
                        "outlinewidth": 0,
                        "ticks": ""
                      }
                    },
                    "colorscale": {
                      "diverging": [
                        [
                          0,
                          "#8e0152"
                        ],
                        [
                          0.1,
                          "#c51b7d"
                        ],
                        [
                          0.2,
                          "#de77ae"
                        ],
                        [
                          0.3,
                          "#f1b6da"
                        ],
                        [
                          0.4,
                          "#fde0ef"
                        ],
                        [
                          0.5,
                          "#f7f7f7"
                        ],
                        [
                          0.6,
                          "#e6f5d0"
                        ],
                        [
                          0.7,
                          "#b8e186"
                        ],
                        [
                          0.8,
                          "#7fbc41"
                        ],
                        [
                          0.9,
                          "#4d9221"
                        ],
                        [
                          1,
                          "#276419"
                        ]
                      ],
                      "sequential": [
                        [
                          0,
                          "#0d0887"
                        ],
                        [
                          0.1111111111111111,
                          "#46039f"
                        ],
                        [
                          0.2222222222222222,
                          "#7201a8"
                        ],
                        [
                          0.3333333333333333,
                          "#9c179e"
                        ],
                        [
                          0.4444444444444444,
                          "#bd3786"
                        ],
                        [
                          0.5555555555555556,
                          "#d8576b"
                        ],
                        [
                          0.6666666666666666,
                          "#ed7953"
                        ],
                        [
                          0.7777777777777778,
                          "#fb9f3a"
                        ],
                        [
                          0.8888888888888888,
                          "#fdca26"
                        ],
                        [
                          1,
                          "#f0f921"
                        ]
                      ],
                      "sequentialminus": [
                        [
                          0,
                          "#0d0887"
                        ],
                        [
                          0.1111111111111111,
                          "#46039f"
                        ],
                        [
                          0.2222222222222222,
                          "#7201a8"
                        ],
                        [
                          0.3333333333333333,
                          "#9c179e"
                        ],
                        [
                          0.4444444444444444,
                          "#bd3786"
                        ],
                        [
                          0.5555555555555556,
                          "#d8576b"
                        ],
                        [
                          0.6666666666666666,
                          "#ed7953"
                        ],
                        [
                          0.7777777777777778,
                          "#fb9f3a"
                        ],
                        [
                          0.8888888888888888,
                          "#fdca26"
                        ],
                        [
                          1,
                          "#f0f921"
                        ]
                      ]
                    },
                    "colorway": [
                      "#636efa",
                      "#EF553B",
                      "#00cc96",
                      "#ab63fa",
                      "#FFA15A",
                      "#19d3f3",
                      "#FF6692",
                      "#B6E880",
                      "#FF97FF",
                      "#FECB52"
                    ],
                    "font": {
                      "color": "#2a3f5f"
                    },
                    "geo": {
                      "bgcolor": "white",
                      "lakecolor": "white",
                      "landcolor": "#E5ECF6",
                      "showlakes": true,
                      "showland": true,
                      "subunitcolor": "white"
                    },
                    "hoverlabel": {
                      "align": "left"
                    },
                    "hovermode": "closest",
                    "mapbox": {
                      "style": "light"
                    },
                    "paper_bgcolor": "white",
                    "plot_bgcolor": "#E5ECF6",
                    "polar": {
                      "angularaxis": {
                        "gridcolor": "white",
                        "linecolor": "white",
                        "ticks": ""
                      },
                      "bgcolor": "#E5ECF6",
                      "radialaxis": {
                        "gridcolor": "white",
                        "linecolor": "white",
                        "ticks": ""
                      }
                    },
                    "scene": {
                      "xaxis": {
                        "backgroundcolor": "#E5ECF6",
                        "gridcolor": "white",
                        "gridwidth": 2,
                        "linecolor": "white",
                        "showbackground": true,
                        "ticks": "",
                        "zerolinecolor": "white"
                      },
                      "yaxis": {
                        "backgroundcolor": "#E5ECF6",
                        "gridcolor": "white",
                        "gridwidth": 2,
                        "linecolor": "white",
                        "showbackground": true,
                        "ticks": "",
                        "zerolinecolor": "white"
                      },
                      "zaxis": {
                        "backgroundcolor": "#E5ECF6",
                        "gridcolor": "white",
                        "gridwidth": 2,
                        "linecolor": "white",
                        "showbackground": true,
                        "ticks": "",
                        "zerolinecolor": "white"
                      }
                    },
                    "shapedefaults": {
                      "line": {
                        "color": "#2a3f5f"
                      }
                    },
                    "ternary": {
                      "aaxis": {
                        "gridcolor": "white",
                        "linecolor": "white",
                        "ticks": ""
                      },
                      "baxis": {
                        "gridcolor": "white",
                        "linecolor": "white",
                        "ticks": ""
                      },
                      "bgcolor": "#E5ECF6",
                      "caxis": {
                        "gridcolor": "white",
                        "linecolor": "white",
                        "ticks": ""
                      }
                    },
                    "title": {
                      "x": 0.05
                    },
                    "xaxis": {
                      "automargin": true,
                      "gridcolor": "white",
                      "linecolor": "white",
                      "ticks": "",
                      "title": {
                        "standoff": 15
                      },
                      "zerolinecolor": "white",
                      "zerolinewidth": 2
                    },
                    "yaxis": {
                      "automargin": true,
                      "gridcolor": "white",
                      "linecolor": "white",
                      "ticks": "",
                      "title": {
                        "standoff": 15
                      },
                      "zerolinecolor": "white",
                      "zerolinewidth": 2
                    }
                  }
                },
                "xaxis": {
                  "anchor": "y",
                  "domain": [
                    0,
                    0.48
                  ],
                  "title": {
                    "text": "sugars"
                  }
                },
                "xaxis2": {
                  "anchor": "y2",
                  "domain": [
                    0.5,
                    0.98
                  ],
                  "matches": "x",
                  "title": {
                    "text": "sugars"
                  }
                },
                "xaxis3": {
                  "anchor": "y3",
                  "domain": [
                    0,
                    0.48
                  ],
                  "matches": "x",
                  "showticklabels": false
                },
                "xaxis4": {
                  "anchor": "y4",
                  "domain": [
                    0.5,
                    0.98
                  ],
                  "matches": "x",
                  "showticklabels": false
                },
                "xaxis5": {
                  "anchor": "y5",
                  "domain": [
                    0,
                    0.48
                  ],
                  "matches": "x",
                  "showticklabels": false
                },
                "xaxis6": {
                  "anchor": "y6",
                  "domain": [
                    0.5,
                    0.98
                  ],
                  "matches": "x",
                  "showticklabels": false
                },
                "yaxis": {
                  "anchor": "x",
                  "domain": [
                    0,
                    0.3133333333333333
                  ],
                  "title": {
                    "text": "rating"
                  }
                },
                "yaxis2": {
                  "anchor": "x2",
                  "domain": [
                    0,
                    0.3133333333333333
                  ],
                  "matches": "y",
                  "showticklabels": false
                },
                "yaxis3": {
                  "anchor": "x3",
                  "domain": [
                    0.34333333333333327,
                    0.6566666666666665
                  ],
                  "matches": "y",
                  "title": {
                    "text": "rating"
                  }
                },
                "yaxis4": {
                  "anchor": "x4",
                  "domain": [
                    0.34333333333333327,
                    0.6566666666666665
                  ],
                  "matches": "y",
                  "showticklabels": false
                },
                "yaxis5": {
                  "anchor": "x5",
                  "domain": [
                    0.6866666666666665,
                    0.9999999999999998
                  ],
                  "matches": "y",
                  "title": {
                    "text": "rating"
                  }
                },
                "yaxis6": {
                  "anchor": "x6",
                  "domain": [
                    0.6866666666666665,
                    0.9999999999999998
                  ],
                  "matches": "y",
                  "showticklabels": false
                }
              }
            }
          },
          "metadata": {},
          "output_type": "display_data"
        },
        {
          "name": "stdout",
          "output_type": "stream",
          "text": [
            "                        name             mfr  type  calories  protein  fat  \\\n",
            "0                  100% Bran         Nabisco  Cold        70        4    1   \n",
            "1          100% Natural Bran     Quaker Oats  Cold       120        3    5   \n",
            "2                   All-Bran         Kellogs  Cold        70        4    1   \n",
            "3  All-Bran with Extra Fiber         Kellogs  Cold        50        4    0   \n",
            "4             Almond Delight  Ralston Purina  Cold       110        2    2   \n",
            "\n",
            "   sodium  fiber  carbo  sugars  potass  vitamins shelf  weight  cups  rating  \\\n",
            "0     130   10.0    5.0       6     280        25   Top     1.0  0.33   68.40   \n",
            "1      15    2.0    8.0       8     135         0   Top     1.0  1.00   33.98   \n",
            "2     260    9.0    7.0       5     320        25   Top     1.0  0.33   59.43   \n",
            "3     140   14.0    8.0       0     330        25   Top     1.0  0.50   93.70   \n",
            "4     200    1.0   14.0       8      -1        25   Top     1.0  0.75   34.38   \n",
            "\n",
            "   cereal  \n",
            "0       1  \n",
            "1       1  \n",
            "2       1  \n",
            "3       1  \n",
            "4       1  \n"
          ]
        }
      ],
      "source": [
        "fig = px.scatter(df,\n",
        "                x='sugars',\n",
        "                y='rating',\n",
        "                color='mfr',\n",
        "                size='calories',\n",
        "                facet_row='shelf',\n",
        "                facet_col='type',\n",
        "                hover_name='name',\n",
        "                category_orders={'shelf': ['Top', 'Middle', 'Bottom']})\n",
        "fig.show()\n",
        "print(df.head())\n",
        "\n",
        "#facet_row แบ่งrow facet_col แบ่งcolumn"
      ]
    },
    {
      "cell_type": "code",
      "execution_count": 9,
      "metadata": {
        "colab": {
          "base_uri": "https://localhost:8080/",
          "height": 542
        },
        "id": "Bs4Wvsgdg7TD",
        "outputId": "ca5dc601-5b9d-4b3c-f111-3a26f05f7ea1"
      },
      "outputs": [
        {
          "data": {
            "application/vnd.plotly.v1+json": {
              "config": {
                "plotlyServerURL": "https://plot.ly"
              },
              "data": [
                {
                  "branchvalues": "total",
                  "domain": {
                    "x": [
                      0,
                      1
                    ],
                    "y": [
                      0,
                      1
                    ]
                  },
                  "hovertemplate": "<b>%{hovertext}</b><br><br>labels=%{label}<br>cereal=%{value}<br>parent=%{parent}<br>id=%{id}<extra></extra>",
                  "hovertext": [
                    "Quaker Oatmeal",
                    "All-Bran with Extra Fiber",
                    "(?)",
                    "Shredded Wheat",
                    "(?)",
                    "Cream of Wheat (Quick)",
                    "Cheerios",
                    "Nutri-grain Wheat",
                    "Corn Flakes",
                    "Rice Chex",
                    "Wheaties",
                    "Wheat Chex",
                    "Maypo",
                    "Total Whole Grain",
                    "Product 19",
                    "(?)",
                    "Corn Chex",
                    "Kix",
                    "(?)",
                    "Crispix",
                    "Grape-Nuts",
                    "Great Grains Pecan",
                    "All-Bran",
                    "Strawberry Fruit Wheats",
                    "Bran Flakes",
                    "Grape Nuts Flakes",
                    "Double Chex",
                    "100% Bran",
                    "Bran Chex",
                    "Raisin Squares",
                    "Multi-Grain Cheerios",
                    "Life",
                    "Quaker Oat Squares",
                    "Just Right Crunchy  Nuggets",
                    "Frosted Mini-Wheats",
                    "Clusters",
                    "Cracklin' Oat Bran",
                    "Nutri-Grain Almond-Raisin",
                    "Raisin Nut Bran",
                    "Wheaties Honey Gold",
                    "Almond Delight",
                    "100% Natural Bran",
                    "Basic 4",
                    "Golden Grahams",
                    "Cinnamon Toast Crunch",
                    "Nut&Honey Crunch",
                    "Just Right Fruit & Nut",
                    "Crispy Wheat & Raisins",
                    "(?)",
                    "Fruit & Fibre Dates, Walnuts, and Oats",
                    "Oatmeal Raisin Crisp",
                    "Frosted Flakes",
                    "Honey-comb",
                    "Honey Graham Ohs",
                    "(?)",
                    "(?)",
                    "Corn Pops",
                    "Fruity Pebbles",
                    "Raisin Bran",
                    "Cap'n'Crunch",
                    "Fruitful Bran",
                    "(?)",
                    "Froot Loops",
                    "Mueslix Crispy Blend",
                    "Apple Jacks",
                    "Post Nat. Raisin Bran",
                    "Total Raisin Bran",
                    "Golden Crisp",
                    "Smacks",
                    "All-Bran with Extra Fiber",
                    "(?)",
                    "All-Bran",
                    "100% Bran",
                    "Shredded Wheat",
                    "(?)",
                    "Bran Chex",
                    "Strawberry Fruit Wheats",
                    "(?)",
                    "Bran Flakes",
                    "(?)",
                    "Corn Flakes",
                    "Golden Crisp",
                    "Quaker Oatmeal",
                    "Wheat Chex",
                    "Maypo",
                    "Frosted Mini-Wheats",
                    "Cream of Wheat (Quick)",
                    "Life",
                    "(?)",
                    "Product 19",
                    "Grape Nuts Flakes",
                    "Quaker Oat Squares",
                    "Double Chex",
                    "(?)",
                    "(?)",
                    "Honey-comb",
                    "(?)",
                    "(?)",
                    "(?)",
                    "Fruity Pebbles",
                    "(?)",
                    "(?)",
                    "Grape-Nuts",
                    "Almond Delight",
                    "Cinnamon Toast Crunch",
                    "(?)",
                    "(?)",
                    "Fruitful Bran",
                    "(?)",
                    "100% Natural Bran",
                    "(?)",
                    "Total Raisin Bran",
                    "(?)",
                    "(?)",
                    "Mueslix Crispy Blend",
                    "(?)",
                    "(?)",
                    "(?)",
                    "(?)",
                    "Quaker Oatmeal",
                    "(?)",
                    "Maypo",
                    "(?)",
                    "(?)",
                    "(?)",
                    "Fruity Pebbles",
                    "(?)",
                    "(?)",
                    "(?)",
                    "100% Bran",
                    "(?)",
                    "(?)",
                    "(?)",
                    "Maypo",
                    "(?)",
                    "(?)",
                    "(?)",
                    "(?)",
                    "(?)",
                    "(?)"
                  ],
                  "ids": [
                    "Quaker Oats/Bottom/100/-1",
                    "Kellogs/Top/50/0",
                    "Quaker Oats/Top/50/0",
                    "Nabisco/Bottom/80/0",
                    "Nabisco/Bottom/90/0",
                    "Nabisco/Middle/100/0",
                    "General Mills/Bottom/110/1",
                    "Kellogs/Top/90/2",
                    "Kellogs/Bottom/100/2",
                    "Ralston Purina/Bottom/110/2",
                    "General Mills/Bottom/100/3",
                    "Ralston Purina/Bottom/100/3",
                    "AM Home Food/Middle/100/3",
                    "General Mills/Top/100/3",
                    "Kellogs/Top/100/3",
                    "Kellogs/Bottom/110/3",
                    "Ralston Purina/Bottom/110/3",
                    "General Mills/Middle/110/3",
                    "General Mills/Top/110/3",
                    "Kellogs/Top/110/3",
                    "Post/Top/110/3",
                    "Post/Top/120/4",
                    "Kellogs/Top/70/5",
                    "Nabisco/Middle/90/5",
                    "Post/Top/90/5",
                    "Post/Top/100/5",
                    "Ralston Purina/Top/100/5",
                    "Nabisco/Top/70/6",
                    "Ralston Purina/Bottom/90/6",
                    "Kellogs/Top/90/6",
                    "General Mills/Bottom/100/6",
                    "Quaker Oats/Middle/100/6",
                    "Quaker Oats/Top/100/6",
                    "Kellogs/Top/110/6",
                    "Kellogs/Middle/100/7",
                    "General Mills/Top/110/7",
                    "Kellogs/Top/110/7",
                    "Kellogs/Top/140/7",
                    "General Mills/Top/100/8",
                    "General Mills/Bottom/110/8",
                    "Ralston Purina/Top/110/8",
                    "Quaker Oats/Top/120/8",
                    "General Mills/Top/130/8",
                    "General Mills/Middle/110/9",
                    "General Mills/Middle/120/9",
                    "Kellogs/Middle/120/9",
                    "Kellogs/Top/140/9",
                    "General Mills/Top/100/10",
                    "General Mills/Bottom/110/10",
                    "Post/Top/120/10",
                    "General Mills/Top/130/10",
                    "Kellogs/Bottom/110/11",
                    "Post/Bottom/110/11",
                    "Quaker Oats/Middle/120/11",
                    "Ralston Purina/Top/150/11",
                    "General Mills/Middle/110/12",
                    "Kellogs/Middle/110/12",
                    "Post/Middle/110/12",
                    "Kellogs/Middle/120/12",
                    "Quaker Oats/Middle/120/12",
                    "Kellogs/Top/120/12",
                    "General Mills/Middle/110/13",
                    "Kellogs/Middle/110/13",
                    "Kellogs/Top/160/13",
                    "Kellogs/Middle/110/14",
                    "Post/Top/120/14",
                    "General Mills/Top/140/14",
                    "Post/Bottom/100/15",
                    "Kellogs/Middle/110/15",
                    "Kellogs/Top/50",
                    "Quaker Oats/Top/50",
                    "Kellogs/Top/70",
                    "Nabisco/Top/70",
                    "Nabisco/Bottom/80",
                    "Nabisco/Bottom/90",
                    "Ralston Purina/Bottom/90",
                    "Nabisco/Middle/90",
                    "Kellogs/Top/90",
                    "Post/Top/90",
                    "General Mills/Bottom/100",
                    "Kellogs/Bottom/100",
                    "Post/Bottom/100",
                    "Quaker Oats/Bottom/100",
                    "Ralston Purina/Bottom/100",
                    "AM Home Food/Middle/100",
                    "Kellogs/Middle/100",
                    "Nabisco/Middle/100",
                    "Quaker Oats/Middle/100",
                    "General Mills/Top/100",
                    "Kellogs/Top/100",
                    "Post/Top/100",
                    "Quaker Oats/Top/100",
                    "Ralston Purina/Top/100",
                    "General Mills/Bottom/110",
                    "Kellogs/Bottom/110",
                    "Post/Bottom/110",
                    "Ralston Purina/Bottom/110",
                    "General Mills/Middle/110",
                    "Kellogs/Middle/110",
                    "Post/Middle/110",
                    "General Mills/Top/110",
                    "Kellogs/Top/110",
                    "Post/Top/110",
                    "Ralston Purina/Top/110",
                    "General Mills/Middle/120",
                    "Kellogs/Middle/120",
                    "Quaker Oats/Middle/120",
                    "Kellogs/Top/120",
                    "Post/Top/120",
                    "Quaker Oats/Top/120",
                    "General Mills/Top/130",
                    "General Mills/Top/140",
                    "Kellogs/Top/140",
                    "Ralston Purina/Top/150",
                    "Kellogs/Top/160",
                    "General Mills/Bottom",
                    "Kellogs/Bottom",
                    "Nabisco/Bottom",
                    "Post/Bottom",
                    "Quaker Oats/Bottom",
                    "Ralston Purina/Bottom",
                    "AM Home Food/Middle",
                    "General Mills/Middle",
                    "Kellogs/Middle",
                    "Nabisco/Middle",
                    "Post/Middle",
                    "Quaker Oats/Middle",
                    "General Mills/Top",
                    "Kellogs/Top",
                    "Nabisco/Top",
                    "Post/Top",
                    "Quaker Oats/Top",
                    "Ralston Purina/Top",
                    "AM Home Food",
                    "General Mills",
                    "Kellogs",
                    "Nabisco",
                    "Post",
                    "Quaker Oats",
                    "Ralston Purina"
                  ],
                  "labels": [
                    "-1",
                    "0",
                    "0",
                    "0",
                    "0",
                    "0",
                    "1",
                    "2",
                    "2",
                    "2",
                    "3",
                    "3",
                    "3",
                    "3",
                    "3",
                    "3",
                    "3",
                    "3",
                    "3",
                    "3",
                    "3",
                    "4",
                    "5",
                    "5",
                    "5",
                    "5",
                    "5",
                    "6",
                    "6",
                    "6",
                    "6",
                    "6",
                    "6",
                    "6",
                    "7",
                    "7",
                    "7",
                    "7",
                    "8",
                    "8",
                    "8",
                    "8",
                    "8",
                    "9",
                    "9",
                    "9",
                    "9",
                    "10",
                    "10",
                    "10",
                    "10",
                    "11",
                    "11",
                    "11",
                    "11",
                    "12",
                    "12",
                    "12",
                    "12",
                    "12",
                    "12",
                    "13",
                    "13",
                    "13",
                    "14",
                    "14",
                    "14",
                    "15",
                    "15",
                    "50",
                    "50",
                    "70",
                    "70",
                    "80",
                    "90",
                    "90",
                    "90",
                    "90",
                    "90",
                    "100",
                    "100",
                    "100",
                    "100",
                    "100",
                    "100",
                    "100",
                    "100",
                    "100",
                    "100",
                    "100",
                    "100",
                    "100",
                    "100",
                    "110",
                    "110",
                    "110",
                    "110",
                    "110",
                    "110",
                    "110",
                    "110",
                    "110",
                    "110",
                    "110",
                    "120",
                    "120",
                    "120",
                    "120",
                    "120",
                    "120",
                    "130",
                    "140",
                    "140",
                    "150",
                    "160",
                    "Bottom",
                    "Bottom",
                    "Bottom",
                    "Bottom",
                    "Bottom",
                    "Bottom",
                    "Middle",
                    "Middle",
                    "Middle",
                    "Middle",
                    "Middle",
                    "Middle",
                    "Top",
                    "Top",
                    "Top",
                    "Top",
                    "Top",
                    "Top",
                    "AM Home Food",
                    "General Mills",
                    "Kellogs",
                    "Nabisco",
                    "Post",
                    "Quaker Oats",
                    "Ralston Purina"
                  ],
                  "name": "",
                  "parents": [
                    "Quaker Oats/Bottom/100",
                    "Kellogs/Top/50",
                    "Quaker Oats/Top/50",
                    "Nabisco/Bottom/80",
                    "Nabisco/Bottom/90",
                    "Nabisco/Middle/100",
                    "General Mills/Bottom/110",
                    "Kellogs/Top/90",
                    "Kellogs/Bottom/100",
                    "Ralston Purina/Bottom/110",
                    "General Mills/Bottom/100",
                    "Ralston Purina/Bottom/100",
                    "AM Home Food/Middle/100",
                    "General Mills/Top/100",
                    "Kellogs/Top/100",
                    "Kellogs/Bottom/110",
                    "Ralston Purina/Bottom/110",
                    "General Mills/Middle/110",
                    "General Mills/Top/110",
                    "Kellogs/Top/110",
                    "Post/Top/110",
                    "Post/Top/120",
                    "Kellogs/Top/70",
                    "Nabisco/Middle/90",
                    "Post/Top/90",
                    "Post/Top/100",
                    "Ralston Purina/Top/100",
                    "Nabisco/Top/70",
                    "Ralston Purina/Bottom/90",
                    "Kellogs/Top/90",
                    "General Mills/Bottom/100",
                    "Quaker Oats/Middle/100",
                    "Quaker Oats/Top/100",
                    "Kellogs/Top/110",
                    "Kellogs/Middle/100",
                    "General Mills/Top/110",
                    "Kellogs/Top/110",
                    "Kellogs/Top/140",
                    "General Mills/Top/100",
                    "General Mills/Bottom/110",
                    "Ralston Purina/Top/110",
                    "Quaker Oats/Top/120",
                    "General Mills/Top/130",
                    "General Mills/Middle/110",
                    "General Mills/Middle/120",
                    "Kellogs/Middle/120",
                    "Kellogs/Top/140",
                    "General Mills/Top/100",
                    "General Mills/Bottom/110",
                    "Post/Top/120",
                    "General Mills/Top/130",
                    "Kellogs/Bottom/110",
                    "Post/Bottom/110",
                    "Quaker Oats/Middle/120",
                    "Ralston Purina/Top/150",
                    "General Mills/Middle/110",
                    "Kellogs/Middle/110",
                    "Post/Middle/110",
                    "Kellogs/Middle/120",
                    "Quaker Oats/Middle/120",
                    "Kellogs/Top/120",
                    "General Mills/Middle/110",
                    "Kellogs/Middle/110",
                    "Kellogs/Top/160",
                    "Kellogs/Middle/110",
                    "Post/Top/120",
                    "General Mills/Top/140",
                    "Post/Bottom/100",
                    "Kellogs/Middle/110",
                    "Kellogs/Top",
                    "Quaker Oats/Top",
                    "Kellogs/Top",
                    "Nabisco/Top",
                    "Nabisco/Bottom",
                    "Nabisco/Bottom",
                    "Ralston Purina/Bottom",
                    "Nabisco/Middle",
                    "Kellogs/Top",
                    "Post/Top",
                    "General Mills/Bottom",
                    "Kellogs/Bottom",
                    "Post/Bottom",
                    "Quaker Oats/Bottom",
                    "Ralston Purina/Bottom",
                    "AM Home Food/Middle",
                    "Kellogs/Middle",
                    "Nabisco/Middle",
                    "Quaker Oats/Middle",
                    "General Mills/Top",
                    "Kellogs/Top",
                    "Post/Top",
                    "Quaker Oats/Top",
                    "Ralston Purina/Top",
                    "General Mills/Bottom",
                    "Kellogs/Bottom",
                    "Post/Bottom",
                    "Ralston Purina/Bottom",
                    "General Mills/Middle",
                    "Kellogs/Middle",
                    "Post/Middle",
                    "General Mills/Top",
                    "Kellogs/Top",
                    "Post/Top",
                    "Ralston Purina/Top",
                    "General Mills/Middle",
                    "Kellogs/Middle",
                    "Quaker Oats/Middle",
                    "Kellogs/Top",
                    "Post/Top",
                    "Quaker Oats/Top",
                    "General Mills/Top",
                    "General Mills/Top",
                    "Kellogs/Top",
                    "Ralston Purina/Top",
                    "Kellogs/Top",
                    "General Mills",
                    "Kellogs",
                    "Nabisco",
                    "Post",
                    "Quaker Oats",
                    "Ralston Purina",
                    "AM Home Food",
                    "General Mills",
                    "Kellogs",
                    "Nabisco",
                    "Post",
                    "Quaker Oats",
                    "General Mills",
                    "Kellogs",
                    "Nabisco",
                    "Post",
                    "Quaker Oats",
                    "Ralston Purina",
                    "",
                    "",
                    "",
                    "",
                    "",
                    "",
                    ""
                  ],
                  "type": "treemap",
                  "values": [
                    1,
                    1,
                    2,
                    1,
                    2,
                    1,
                    1,
                    1,
                    1,
                    1,
                    1,
                    1,
                    1,
                    1,
                    1,
                    2,
                    1,
                    1,
                    2,
                    1,
                    1,
                    1,
                    1,
                    1,
                    1,
                    1,
                    1,
                    1,
                    1,
                    1,
                    1,
                    1,
                    1,
                    1,
                    1,
                    1,
                    1,
                    1,
                    1,
                    1,
                    1,
                    1,
                    1,
                    1,
                    1,
                    1,
                    1,
                    1,
                    2,
                    1,
                    1,
                    1,
                    1,
                    1,
                    2,
                    2,
                    1,
                    1,
                    1,
                    1,
                    1,
                    2,
                    1,
                    1,
                    1,
                    1,
                    1,
                    1,
                    1,
                    1,
                    2,
                    1,
                    1,
                    1,
                    2,
                    1,
                    1,
                    2,
                    1,
                    2,
                    1,
                    1,
                    1,
                    1,
                    1,
                    1,
                    1,
                    1,
                    3,
                    1,
                    1,
                    1,
                    1,
                    4,
                    3,
                    1,
                    2,
                    6,
                    4,
                    1,
                    3,
                    3,
                    1,
                    1,
                    1,
                    2,
                    2,
                    1,
                    3,
                    1,
                    2,
                    1,
                    2,
                    2,
                    1,
                    6,
                    4,
                    3,
                    2,
                    1,
                    4,
                    1,
                    7,
                    7,
                    2,
                    1,
                    3,
                    9,
                    12,
                    1,
                    6,
                    4,
                    4,
                    1,
                    22,
                    23,
                    6,
                    9,
                    8,
                    8
                  ]
                }
              ],
              "layout": {
                "legend": {
                  "tracegroupgap": 0
                },
                "template": {
                  "data": {
                    "bar": [
                      {
                        "error_x": {
                          "color": "#2a3f5f"
                        },
                        "error_y": {
                          "color": "#2a3f5f"
                        },
                        "marker": {
                          "line": {
                            "color": "#E5ECF6",
                            "width": 0.5
                          },
                          "pattern": {
                            "fillmode": "overlay",
                            "size": 10,
                            "solidity": 0.2
                          }
                        },
                        "type": "bar"
                      }
                    ],
                    "barpolar": [
                      {
                        "marker": {
                          "line": {
                            "color": "#E5ECF6",
                            "width": 0.5
                          },
                          "pattern": {
                            "fillmode": "overlay",
                            "size": 10,
                            "solidity": 0.2
                          }
                        },
                        "type": "barpolar"
                      }
                    ],
                    "carpet": [
                      {
                        "aaxis": {
                          "endlinecolor": "#2a3f5f",
                          "gridcolor": "white",
                          "linecolor": "white",
                          "minorgridcolor": "white",
                          "startlinecolor": "#2a3f5f"
                        },
                        "baxis": {
                          "endlinecolor": "#2a3f5f",
                          "gridcolor": "white",
                          "linecolor": "white",
                          "minorgridcolor": "white",
                          "startlinecolor": "#2a3f5f"
                        },
                        "type": "carpet"
                      }
                    ],
                    "choropleth": [
                      {
                        "colorbar": {
                          "outlinewidth": 0,
                          "ticks": ""
                        },
                        "type": "choropleth"
                      }
                    ],
                    "contour": [
                      {
                        "colorbar": {
                          "outlinewidth": 0,
                          "ticks": ""
                        },
                        "colorscale": [
                          [
                            0,
                            "#0d0887"
                          ],
                          [
                            0.1111111111111111,
                            "#46039f"
                          ],
                          [
                            0.2222222222222222,
                            "#7201a8"
                          ],
                          [
                            0.3333333333333333,
                            "#9c179e"
                          ],
                          [
                            0.4444444444444444,
                            "#bd3786"
                          ],
                          [
                            0.5555555555555556,
                            "#d8576b"
                          ],
                          [
                            0.6666666666666666,
                            "#ed7953"
                          ],
                          [
                            0.7777777777777778,
                            "#fb9f3a"
                          ],
                          [
                            0.8888888888888888,
                            "#fdca26"
                          ],
                          [
                            1,
                            "#f0f921"
                          ]
                        ],
                        "type": "contour"
                      }
                    ],
                    "contourcarpet": [
                      {
                        "colorbar": {
                          "outlinewidth": 0,
                          "ticks": ""
                        },
                        "type": "contourcarpet"
                      }
                    ],
                    "heatmap": [
                      {
                        "colorbar": {
                          "outlinewidth": 0,
                          "ticks": ""
                        },
                        "colorscale": [
                          [
                            0,
                            "#0d0887"
                          ],
                          [
                            0.1111111111111111,
                            "#46039f"
                          ],
                          [
                            0.2222222222222222,
                            "#7201a8"
                          ],
                          [
                            0.3333333333333333,
                            "#9c179e"
                          ],
                          [
                            0.4444444444444444,
                            "#bd3786"
                          ],
                          [
                            0.5555555555555556,
                            "#d8576b"
                          ],
                          [
                            0.6666666666666666,
                            "#ed7953"
                          ],
                          [
                            0.7777777777777778,
                            "#fb9f3a"
                          ],
                          [
                            0.8888888888888888,
                            "#fdca26"
                          ],
                          [
                            1,
                            "#f0f921"
                          ]
                        ],
                        "type": "heatmap"
                      }
                    ],
                    "heatmapgl": [
                      {
                        "colorbar": {
                          "outlinewidth": 0,
                          "ticks": ""
                        },
                        "colorscale": [
                          [
                            0,
                            "#0d0887"
                          ],
                          [
                            0.1111111111111111,
                            "#46039f"
                          ],
                          [
                            0.2222222222222222,
                            "#7201a8"
                          ],
                          [
                            0.3333333333333333,
                            "#9c179e"
                          ],
                          [
                            0.4444444444444444,
                            "#bd3786"
                          ],
                          [
                            0.5555555555555556,
                            "#d8576b"
                          ],
                          [
                            0.6666666666666666,
                            "#ed7953"
                          ],
                          [
                            0.7777777777777778,
                            "#fb9f3a"
                          ],
                          [
                            0.8888888888888888,
                            "#fdca26"
                          ],
                          [
                            1,
                            "#f0f921"
                          ]
                        ],
                        "type": "heatmapgl"
                      }
                    ],
                    "histogram": [
                      {
                        "marker": {
                          "pattern": {
                            "fillmode": "overlay",
                            "size": 10,
                            "solidity": 0.2
                          }
                        },
                        "type": "histogram"
                      }
                    ],
                    "histogram2d": [
                      {
                        "colorbar": {
                          "outlinewidth": 0,
                          "ticks": ""
                        },
                        "colorscale": [
                          [
                            0,
                            "#0d0887"
                          ],
                          [
                            0.1111111111111111,
                            "#46039f"
                          ],
                          [
                            0.2222222222222222,
                            "#7201a8"
                          ],
                          [
                            0.3333333333333333,
                            "#9c179e"
                          ],
                          [
                            0.4444444444444444,
                            "#bd3786"
                          ],
                          [
                            0.5555555555555556,
                            "#d8576b"
                          ],
                          [
                            0.6666666666666666,
                            "#ed7953"
                          ],
                          [
                            0.7777777777777778,
                            "#fb9f3a"
                          ],
                          [
                            0.8888888888888888,
                            "#fdca26"
                          ],
                          [
                            1,
                            "#f0f921"
                          ]
                        ],
                        "type": "histogram2d"
                      }
                    ],
                    "histogram2dcontour": [
                      {
                        "colorbar": {
                          "outlinewidth": 0,
                          "ticks": ""
                        },
                        "colorscale": [
                          [
                            0,
                            "#0d0887"
                          ],
                          [
                            0.1111111111111111,
                            "#46039f"
                          ],
                          [
                            0.2222222222222222,
                            "#7201a8"
                          ],
                          [
                            0.3333333333333333,
                            "#9c179e"
                          ],
                          [
                            0.4444444444444444,
                            "#bd3786"
                          ],
                          [
                            0.5555555555555556,
                            "#d8576b"
                          ],
                          [
                            0.6666666666666666,
                            "#ed7953"
                          ],
                          [
                            0.7777777777777778,
                            "#fb9f3a"
                          ],
                          [
                            0.8888888888888888,
                            "#fdca26"
                          ],
                          [
                            1,
                            "#f0f921"
                          ]
                        ],
                        "type": "histogram2dcontour"
                      }
                    ],
                    "mesh3d": [
                      {
                        "colorbar": {
                          "outlinewidth": 0,
                          "ticks": ""
                        },
                        "type": "mesh3d"
                      }
                    ],
                    "parcoords": [
                      {
                        "line": {
                          "colorbar": {
                            "outlinewidth": 0,
                            "ticks": ""
                          }
                        },
                        "type": "parcoords"
                      }
                    ],
                    "pie": [
                      {
                        "automargin": true,
                        "type": "pie"
                      }
                    ],
                    "scatter": [
                      {
                        "fillpattern": {
                          "fillmode": "overlay",
                          "size": 10,
                          "solidity": 0.2
                        },
                        "type": "scatter"
                      }
                    ],
                    "scatter3d": [
                      {
                        "line": {
                          "colorbar": {
                            "outlinewidth": 0,
                            "ticks": ""
                          }
                        },
                        "marker": {
                          "colorbar": {
                            "outlinewidth": 0,
                            "ticks": ""
                          }
                        },
                        "type": "scatter3d"
                      }
                    ],
                    "scattercarpet": [
                      {
                        "marker": {
                          "colorbar": {
                            "outlinewidth": 0,
                            "ticks": ""
                          }
                        },
                        "type": "scattercarpet"
                      }
                    ],
                    "scattergeo": [
                      {
                        "marker": {
                          "colorbar": {
                            "outlinewidth": 0,
                            "ticks": ""
                          }
                        },
                        "type": "scattergeo"
                      }
                    ],
                    "scattergl": [
                      {
                        "marker": {
                          "colorbar": {
                            "outlinewidth": 0,
                            "ticks": ""
                          }
                        },
                        "type": "scattergl"
                      }
                    ],
                    "scattermapbox": [
                      {
                        "marker": {
                          "colorbar": {
                            "outlinewidth": 0,
                            "ticks": ""
                          }
                        },
                        "type": "scattermapbox"
                      }
                    ],
                    "scatterpolar": [
                      {
                        "marker": {
                          "colorbar": {
                            "outlinewidth": 0,
                            "ticks": ""
                          }
                        },
                        "type": "scatterpolar"
                      }
                    ],
                    "scatterpolargl": [
                      {
                        "marker": {
                          "colorbar": {
                            "outlinewidth": 0,
                            "ticks": ""
                          }
                        },
                        "type": "scatterpolargl"
                      }
                    ],
                    "scatterternary": [
                      {
                        "marker": {
                          "colorbar": {
                            "outlinewidth": 0,
                            "ticks": ""
                          }
                        },
                        "type": "scatterternary"
                      }
                    ],
                    "surface": [
                      {
                        "colorbar": {
                          "outlinewidth": 0,
                          "ticks": ""
                        },
                        "colorscale": [
                          [
                            0,
                            "#0d0887"
                          ],
                          [
                            0.1111111111111111,
                            "#46039f"
                          ],
                          [
                            0.2222222222222222,
                            "#7201a8"
                          ],
                          [
                            0.3333333333333333,
                            "#9c179e"
                          ],
                          [
                            0.4444444444444444,
                            "#bd3786"
                          ],
                          [
                            0.5555555555555556,
                            "#d8576b"
                          ],
                          [
                            0.6666666666666666,
                            "#ed7953"
                          ],
                          [
                            0.7777777777777778,
                            "#fb9f3a"
                          ],
                          [
                            0.8888888888888888,
                            "#fdca26"
                          ],
                          [
                            1,
                            "#f0f921"
                          ]
                        ],
                        "type": "surface"
                      }
                    ],
                    "table": [
                      {
                        "cells": {
                          "fill": {
                            "color": "#EBF0F8"
                          },
                          "line": {
                            "color": "white"
                          }
                        },
                        "header": {
                          "fill": {
                            "color": "#C8D4E3"
                          },
                          "line": {
                            "color": "white"
                          }
                        },
                        "type": "table"
                      }
                    ]
                  },
                  "layout": {
                    "annotationdefaults": {
                      "arrowcolor": "#2a3f5f",
                      "arrowhead": 0,
                      "arrowwidth": 1
                    },
                    "autotypenumbers": "strict",
                    "coloraxis": {
                      "colorbar": {
                        "outlinewidth": 0,
                        "ticks": ""
                      }
                    },
                    "colorscale": {
                      "diverging": [
                        [
                          0,
                          "#8e0152"
                        ],
                        [
                          0.1,
                          "#c51b7d"
                        ],
                        [
                          0.2,
                          "#de77ae"
                        ],
                        [
                          0.3,
                          "#f1b6da"
                        ],
                        [
                          0.4,
                          "#fde0ef"
                        ],
                        [
                          0.5,
                          "#f7f7f7"
                        ],
                        [
                          0.6,
                          "#e6f5d0"
                        ],
                        [
                          0.7,
                          "#b8e186"
                        ],
                        [
                          0.8,
                          "#7fbc41"
                        ],
                        [
                          0.9,
                          "#4d9221"
                        ],
                        [
                          1,
                          "#276419"
                        ]
                      ],
                      "sequential": [
                        [
                          0,
                          "#0d0887"
                        ],
                        [
                          0.1111111111111111,
                          "#46039f"
                        ],
                        [
                          0.2222222222222222,
                          "#7201a8"
                        ],
                        [
                          0.3333333333333333,
                          "#9c179e"
                        ],
                        [
                          0.4444444444444444,
                          "#bd3786"
                        ],
                        [
                          0.5555555555555556,
                          "#d8576b"
                        ],
                        [
                          0.6666666666666666,
                          "#ed7953"
                        ],
                        [
                          0.7777777777777778,
                          "#fb9f3a"
                        ],
                        [
                          0.8888888888888888,
                          "#fdca26"
                        ],
                        [
                          1,
                          "#f0f921"
                        ]
                      ],
                      "sequentialminus": [
                        [
                          0,
                          "#0d0887"
                        ],
                        [
                          0.1111111111111111,
                          "#46039f"
                        ],
                        [
                          0.2222222222222222,
                          "#7201a8"
                        ],
                        [
                          0.3333333333333333,
                          "#9c179e"
                        ],
                        [
                          0.4444444444444444,
                          "#bd3786"
                        ],
                        [
                          0.5555555555555556,
                          "#d8576b"
                        ],
                        [
                          0.6666666666666666,
                          "#ed7953"
                        ],
                        [
                          0.7777777777777778,
                          "#fb9f3a"
                        ],
                        [
                          0.8888888888888888,
                          "#fdca26"
                        ],
                        [
                          1,
                          "#f0f921"
                        ]
                      ]
                    },
                    "colorway": [
                      "#636efa",
                      "#EF553B",
                      "#00cc96",
                      "#ab63fa",
                      "#FFA15A",
                      "#19d3f3",
                      "#FF6692",
                      "#B6E880",
                      "#FF97FF",
                      "#FECB52"
                    ],
                    "font": {
                      "color": "#2a3f5f"
                    },
                    "geo": {
                      "bgcolor": "white",
                      "lakecolor": "white",
                      "landcolor": "#E5ECF6",
                      "showlakes": true,
                      "showland": true,
                      "subunitcolor": "white"
                    },
                    "hoverlabel": {
                      "align": "left"
                    },
                    "hovermode": "closest",
                    "mapbox": {
                      "style": "light"
                    },
                    "paper_bgcolor": "white",
                    "plot_bgcolor": "#E5ECF6",
                    "polar": {
                      "angularaxis": {
                        "gridcolor": "white",
                        "linecolor": "white",
                        "ticks": ""
                      },
                      "bgcolor": "#E5ECF6",
                      "radialaxis": {
                        "gridcolor": "white",
                        "linecolor": "white",
                        "ticks": ""
                      }
                    },
                    "scene": {
                      "xaxis": {
                        "backgroundcolor": "#E5ECF6",
                        "gridcolor": "white",
                        "gridwidth": 2,
                        "linecolor": "white",
                        "showbackground": true,
                        "ticks": "",
                        "zerolinecolor": "white"
                      },
                      "yaxis": {
                        "backgroundcolor": "#E5ECF6",
                        "gridcolor": "white",
                        "gridwidth": 2,
                        "linecolor": "white",
                        "showbackground": true,
                        "ticks": "",
                        "zerolinecolor": "white"
                      },
                      "zaxis": {
                        "backgroundcolor": "#E5ECF6",
                        "gridcolor": "white",
                        "gridwidth": 2,
                        "linecolor": "white",
                        "showbackground": true,
                        "ticks": "",
                        "zerolinecolor": "white"
                      }
                    },
                    "shapedefaults": {
                      "line": {
                        "color": "#2a3f5f"
                      }
                    },
                    "ternary": {
                      "aaxis": {
                        "gridcolor": "white",
                        "linecolor": "white",
                        "ticks": ""
                      },
                      "baxis": {
                        "gridcolor": "white",
                        "linecolor": "white",
                        "ticks": ""
                      },
                      "bgcolor": "#E5ECF6",
                      "caxis": {
                        "gridcolor": "white",
                        "linecolor": "white",
                        "ticks": ""
                      }
                    },
                    "title": {
                      "x": 0.05
                    },
                    "xaxis": {
                      "automargin": true,
                      "gridcolor": "white",
                      "linecolor": "white",
                      "ticks": "",
                      "title": {
                        "standoff": 15
                      },
                      "zerolinecolor": "white",
                      "zerolinewidth": 2
                    },
                    "yaxis": {
                      "automargin": true,
                      "gridcolor": "white",
                      "linecolor": "white",
                      "ticks": "",
                      "title": {
                        "standoff": 15
                      },
                      "zerolinecolor": "white",
                      "zerolinewidth": 2
                    }
                  }
                },
                "title": {
                  "text": "Cereals by shelf location"
                }
              }
            }
          },
          "metadata": {},
          "output_type": "display_data"
        }
      ],
      "source": [
        "fig = px.treemap(df, path=['mfr', 'shelf','calories','sugars'], values='cereal', title='Cereals by shelf location',hover_name='name')   #title is information\n",
        "fig.show()\n",
        "#path ความลึกเข้าไปของ data ที่จะโชว์ อันแรกนอกสุด อันในในสุด"
      ]
    },
    {
      "cell_type": "code",
      "execution_count": 10,
      "metadata": {
        "colab": {
          "base_uri": "https://localhost:8080/",
          "height": 542
        },
        "id": "35zNI8SRg9zf",
        "outputId": "61b7b2d7-1bdf-4057-d36e-52c4af61938e"
      },
      "outputs": [
        {
          "data": {
            "application/vnd.plotly.v1+json": {
              "config": {
                "plotlyServerURL": "https://plot.ly"
              },
              "data": [
                {
                  "branchvalues": "total",
                  "domain": {
                    "x": [
                      0,
                      1
                    ],
                    "y": [
                      0,
                      1
                    ]
                  },
                  "hovertemplate": "labels=%{label}<br>cereal=%{value}<br>parent=%{parent}<br>id=%{id}<extra></extra>",
                  "ids": [
                    "Quaker Oats/100/-1",
                    "Kellogs/50/0",
                    "Quaker Oats/50/0",
                    "Nabisco/80/0",
                    "Nabisco/90/0",
                    "Nabisco/100/0",
                    "General Mills/110/1",
                    "Kellogs/90/2",
                    "Kellogs/100/2",
                    "Ralston Purina/110/2",
                    "AM Home Food/100/3",
                    "General Mills/100/3",
                    "Kellogs/100/3",
                    "Ralston Purina/100/3",
                    "General Mills/110/3",
                    "Kellogs/110/3",
                    "Post/110/3",
                    "Ralston Purina/110/3",
                    "Post/120/4",
                    "Kellogs/70/5",
                    "Nabisco/90/5",
                    "Post/90/5",
                    "Post/100/5",
                    "Ralston Purina/100/5",
                    "Nabisco/70/6",
                    "Kellogs/90/6",
                    "Ralston Purina/90/6",
                    "General Mills/100/6",
                    "Quaker Oats/100/6",
                    "Kellogs/110/6",
                    "Kellogs/100/7",
                    "General Mills/110/7",
                    "Kellogs/110/7",
                    "Kellogs/140/7",
                    "General Mills/100/8",
                    "General Mills/110/8",
                    "Ralston Purina/110/8",
                    "Quaker Oats/120/8",
                    "General Mills/130/8",
                    "General Mills/110/9",
                    "General Mills/120/9",
                    "Kellogs/120/9",
                    "Kellogs/140/9",
                    "General Mills/100/10",
                    "General Mills/110/10",
                    "Post/120/10",
                    "General Mills/130/10",
                    "Kellogs/110/11",
                    "Post/110/11",
                    "Quaker Oats/120/11",
                    "Ralston Purina/150/11",
                    "General Mills/110/12",
                    "Kellogs/110/12",
                    "Post/110/12",
                    "Kellogs/120/12",
                    "Quaker Oats/120/12",
                    "General Mills/110/13",
                    "Kellogs/110/13",
                    "Kellogs/160/13",
                    "Kellogs/110/14",
                    "Post/120/14",
                    "General Mills/140/14",
                    "Post/100/15",
                    "Kellogs/110/15",
                    "Kellogs/50",
                    "Quaker Oats/50",
                    "Kellogs/70",
                    "Nabisco/70",
                    "Nabisco/80",
                    "Kellogs/90",
                    "Nabisco/90",
                    "Post/90",
                    "Ralston Purina/90",
                    "AM Home Food/100",
                    "General Mills/100",
                    "Kellogs/100",
                    "Nabisco/100",
                    "Post/100",
                    "Quaker Oats/100",
                    "Ralston Purina/100",
                    "General Mills/110",
                    "Kellogs/110",
                    "Post/110",
                    "Ralston Purina/110",
                    "General Mills/120",
                    "Kellogs/120",
                    "Post/120",
                    "Quaker Oats/120",
                    "General Mills/130",
                    "General Mills/140",
                    "Kellogs/140",
                    "Ralston Purina/150",
                    "Kellogs/160",
                    "AM Home Food",
                    "General Mills",
                    "Kellogs",
                    "Nabisco",
                    "Post",
                    "Quaker Oats",
                    "Ralston Purina"
                  ],
                  "labels": [
                    "-1",
                    "0",
                    "0",
                    "0",
                    "0",
                    "0",
                    "1",
                    "2",
                    "2",
                    "2",
                    "3",
                    "3",
                    "3",
                    "3",
                    "3",
                    "3",
                    "3",
                    "3",
                    "4",
                    "5",
                    "5",
                    "5",
                    "5",
                    "5",
                    "6",
                    "6",
                    "6",
                    "6",
                    "6",
                    "6",
                    "7",
                    "7",
                    "7",
                    "7",
                    "8",
                    "8",
                    "8",
                    "8",
                    "8",
                    "9",
                    "9",
                    "9",
                    "9",
                    "10",
                    "10",
                    "10",
                    "10",
                    "11",
                    "11",
                    "11",
                    "11",
                    "12",
                    "12",
                    "12",
                    "12",
                    "12",
                    "13",
                    "13",
                    "13",
                    "14",
                    "14",
                    "14",
                    "15",
                    "15",
                    "50",
                    "50",
                    "70",
                    "70",
                    "80",
                    "90",
                    "90",
                    "90",
                    "90",
                    "100",
                    "100",
                    "100",
                    "100",
                    "100",
                    "100",
                    "100",
                    "110",
                    "110",
                    "110",
                    "110",
                    "120",
                    "120",
                    "120",
                    "120",
                    "130",
                    "140",
                    "140",
                    "150",
                    "160",
                    "AM Home Food",
                    "General Mills",
                    "Kellogs",
                    "Nabisco",
                    "Post",
                    "Quaker Oats",
                    "Ralston Purina"
                  ],
                  "name": "",
                  "parents": [
                    "Quaker Oats/100",
                    "Kellogs/50",
                    "Quaker Oats/50",
                    "Nabisco/80",
                    "Nabisco/90",
                    "Nabisco/100",
                    "General Mills/110",
                    "Kellogs/90",
                    "Kellogs/100",
                    "Ralston Purina/110",
                    "AM Home Food/100",
                    "General Mills/100",
                    "Kellogs/100",
                    "Ralston Purina/100",
                    "General Mills/110",
                    "Kellogs/110",
                    "Post/110",
                    "Ralston Purina/110",
                    "Post/120",
                    "Kellogs/70",
                    "Nabisco/90",
                    "Post/90",
                    "Post/100",
                    "Ralston Purina/100",
                    "Nabisco/70",
                    "Kellogs/90",
                    "Ralston Purina/90",
                    "General Mills/100",
                    "Quaker Oats/100",
                    "Kellogs/110",
                    "Kellogs/100",
                    "General Mills/110",
                    "Kellogs/110",
                    "Kellogs/140",
                    "General Mills/100",
                    "General Mills/110",
                    "Ralston Purina/110",
                    "Quaker Oats/120",
                    "General Mills/130",
                    "General Mills/110",
                    "General Mills/120",
                    "Kellogs/120",
                    "Kellogs/140",
                    "General Mills/100",
                    "General Mills/110",
                    "Post/120",
                    "General Mills/130",
                    "Kellogs/110",
                    "Post/110",
                    "Quaker Oats/120",
                    "Ralston Purina/150",
                    "General Mills/110",
                    "Kellogs/110",
                    "Post/110",
                    "Kellogs/120",
                    "Quaker Oats/120",
                    "General Mills/110",
                    "Kellogs/110",
                    "Kellogs/160",
                    "Kellogs/110",
                    "Post/120",
                    "General Mills/140",
                    "Post/100",
                    "Kellogs/110",
                    "Kellogs",
                    "Quaker Oats",
                    "Kellogs",
                    "Nabisco",
                    "Nabisco",
                    "Kellogs",
                    "Nabisco",
                    "Post",
                    "Ralston Purina",
                    "AM Home Food",
                    "General Mills",
                    "Kellogs",
                    "Nabisco",
                    "Post",
                    "Quaker Oats",
                    "Ralston Purina",
                    "General Mills",
                    "Kellogs",
                    "Post",
                    "Ralston Purina",
                    "General Mills",
                    "Kellogs",
                    "Post",
                    "Quaker Oats",
                    "General Mills",
                    "General Mills",
                    "Kellogs",
                    "Ralston Purina",
                    "Kellogs",
                    "",
                    "",
                    "",
                    "",
                    "",
                    "",
                    ""
                  ],
                  "type": "sunburst",
                  "values": [
                    1,
                    1,
                    2,
                    1,
                    2,
                    1,
                    1,
                    1,
                    1,
                    1,
                    1,
                    2,
                    1,
                    1,
                    3,
                    3,
                    1,
                    1,
                    1,
                    1,
                    1,
                    1,
                    1,
                    1,
                    1,
                    1,
                    1,
                    1,
                    2,
                    1,
                    1,
                    1,
                    1,
                    1,
                    1,
                    1,
                    1,
                    1,
                    1,
                    1,
                    1,
                    1,
                    1,
                    1,
                    2,
                    1,
                    1,
                    1,
                    1,
                    1,
                    2,
                    2,
                    1,
                    1,
                    2,
                    1,
                    2,
                    1,
                    1,
                    1,
                    1,
                    1,
                    1,
                    1,
                    1,
                    2,
                    1,
                    1,
                    1,
                    2,
                    3,
                    1,
                    1,
                    1,
                    5,
                    3,
                    1,
                    2,
                    3,
                    2,
                    13,
                    10,
                    3,
                    3,
                    1,
                    3,
                    3,
                    3,
                    2,
                    1,
                    2,
                    2,
                    1,
                    1,
                    22,
                    23,
                    6,
                    9,
                    8,
                    8
                  ]
                }
              ],
              "layout": {
                "legend": {
                  "tracegroupgap": 0
                },
                "margin": {
                  "t": 60
                },
                "template": {
                  "data": {
                    "bar": [
                      {
                        "error_x": {
                          "color": "#2a3f5f"
                        },
                        "error_y": {
                          "color": "#2a3f5f"
                        },
                        "marker": {
                          "line": {
                            "color": "#E5ECF6",
                            "width": 0.5
                          },
                          "pattern": {
                            "fillmode": "overlay",
                            "size": 10,
                            "solidity": 0.2
                          }
                        },
                        "type": "bar"
                      }
                    ],
                    "barpolar": [
                      {
                        "marker": {
                          "line": {
                            "color": "#E5ECF6",
                            "width": 0.5
                          },
                          "pattern": {
                            "fillmode": "overlay",
                            "size": 10,
                            "solidity": 0.2
                          }
                        },
                        "type": "barpolar"
                      }
                    ],
                    "carpet": [
                      {
                        "aaxis": {
                          "endlinecolor": "#2a3f5f",
                          "gridcolor": "white",
                          "linecolor": "white",
                          "minorgridcolor": "white",
                          "startlinecolor": "#2a3f5f"
                        },
                        "baxis": {
                          "endlinecolor": "#2a3f5f",
                          "gridcolor": "white",
                          "linecolor": "white",
                          "minorgridcolor": "white",
                          "startlinecolor": "#2a3f5f"
                        },
                        "type": "carpet"
                      }
                    ],
                    "choropleth": [
                      {
                        "colorbar": {
                          "outlinewidth": 0,
                          "ticks": ""
                        },
                        "type": "choropleth"
                      }
                    ],
                    "contour": [
                      {
                        "colorbar": {
                          "outlinewidth": 0,
                          "ticks": ""
                        },
                        "colorscale": [
                          [
                            0,
                            "#0d0887"
                          ],
                          [
                            0.1111111111111111,
                            "#46039f"
                          ],
                          [
                            0.2222222222222222,
                            "#7201a8"
                          ],
                          [
                            0.3333333333333333,
                            "#9c179e"
                          ],
                          [
                            0.4444444444444444,
                            "#bd3786"
                          ],
                          [
                            0.5555555555555556,
                            "#d8576b"
                          ],
                          [
                            0.6666666666666666,
                            "#ed7953"
                          ],
                          [
                            0.7777777777777778,
                            "#fb9f3a"
                          ],
                          [
                            0.8888888888888888,
                            "#fdca26"
                          ],
                          [
                            1,
                            "#f0f921"
                          ]
                        ],
                        "type": "contour"
                      }
                    ],
                    "contourcarpet": [
                      {
                        "colorbar": {
                          "outlinewidth": 0,
                          "ticks": ""
                        },
                        "type": "contourcarpet"
                      }
                    ],
                    "heatmap": [
                      {
                        "colorbar": {
                          "outlinewidth": 0,
                          "ticks": ""
                        },
                        "colorscale": [
                          [
                            0,
                            "#0d0887"
                          ],
                          [
                            0.1111111111111111,
                            "#46039f"
                          ],
                          [
                            0.2222222222222222,
                            "#7201a8"
                          ],
                          [
                            0.3333333333333333,
                            "#9c179e"
                          ],
                          [
                            0.4444444444444444,
                            "#bd3786"
                          ],
                          [
                            0.5555555555555556,
                            "#d8576b"
                          ],
                          [
                            0.6666666666666666,
                            "#ed7953"
                          ],
                          [
                            0.7777777777777778,
                            "#fb9f3a"
                          ],
                          [
                            0.8888888888888888,
                            "#fdca26"
                          ],
                          [
                            1,
                            "#f0f921"
                          ]
                        ],
                        "type": "heatmap"
                      }
                    ],
                    "heatmapgl": [
                      {
                        "colorbar": {
                          "outlinewidth": 0,
                          "ticks": ""
                        },
                        "colorscale": [
                          [
                            0,
                            "#0d0887"
                          ],
                          [
                            0.1111111111111111,
                            "#46039f"
                          ],
                          [
                            0.2222222222222222,
                            "#7201a8"
                          ],
                          [
                            0.3333333333333333,
                            "#9c179e"
                          ],
                          [
                            0.4444444444444444,
                            "#bd3786"
                          ],
                          [
                            0.5555555555555556,
                            "#d8576b"
                          ],
                          [
                            0.6666666666666666,
                            "#ed7953"
                          ],
                          [
                            0.7777777777777778,
                            "#fb9f3a"
                          ],
                          [
                            0.8888888888888888,
                            "#fdca26"
                          ],
                          [
                            1,
                            "#f0f921"
                          ]
                        ],
                        "type": "heatmapgl"
                      }
                    ],
                    "histogram": [
                      {
                        "marker": {
                          "pattern": {
                            "fillmode": "overlay",
                            "size": 10,
                            "solidity": 0.2
                          }
                        },
                        "type": "histogram"
                      }
                    ],
                    "histogram2d": [
                      {
                        "colorbar": {
                          "outlinewidth": 0,
                          "ticks": ""
                        },
                        "colorscale": [
                          [
                            0,
                            "#0d0887"
                          ],
                          [
                            0.1111111111111111,
                            "#46039f"
                          ],
                          [
                            0.2222222222222222,
                            "#7201a8"
                          ],
                          [
                            0.3333333333333333,
                            "#9c179e"
                          ],
                          [
                            0.4444444444444444,
                            "#bd3786"
                          ],
                          [
                            0.5555555555555556,
                            "#d8576b"
                          ],
                          [
                            0.6666666666666666,
                            "#ed7953"
                          ],
                          [
                            0.7777777777777778,
                            "#fb9f3a"
                          ],
                          [
                            0.8888888888888888,
                            "#fdca26"
                          ],
                          [
                            1,
                            "#f0f921"
                          ]
                        ],
                        "type": "histogram2d"
                      }
                    ],
                    "histogram2dcontour": [
                      {
                        "colorbar": {
                          "outlinewidth": 0,
                          "ticks": ""
                        },
                        "colorscale": [
                          [
                            0,
                            "#0d0887"
                          ],
                          [
                            0.1111111111111111,
                            "#46039f"
                          ],
                          [
                            0.2222222222222222,
                            "#7201a8"
                          ],
                          [
                            0.3333333333333333,
                            "#9c179e"
                          ],
                          [
                            0.4444444444444444,
                            "#bd3786"
                          ],
                          [
                            0.5555555555555556,
                            "#d8576b"
                          ],
                          [
                            0.6666666666666666,
                            "#ed7953"
                          ],
                          [
                            0.7777777777777778,
                            "#fb9f3a"
                          ],
                          [
                            0.8888888888888888,
                            "#fdca26"
                          ],
                          [
                            1,
                            "#f0f921"
                          ]
                        ],
                        "type": "histogram2dcontour"
                      }
                    ],
                    "mesh3d": [
                      {
                        "colorbar": {
                          "outlinewidth": 0,
                          "ticks": ""
                        },
                        "type": "mesh3d"
                      }
                    ],
                    "parcoords": [
                      {
                        "line": {
                          "colorbar": {
                            "outlinewidth": 0,
                            "ticks": ""
                          }
                        },
                        "type": "parcoords"
                      }
                    ],
                    "pie": [
                      {
                        "automargin": true,
                        "type": "pie"
                      }
                    ],
                    "scatter": [
                      {
                        "fillpattern": {
                          "fillmode": "overlay",
                          "size": 10,
                          "solidity": 0.2
                        },
                        "type": "scatter"
                      }
                    ],
                    "scatter3d": [
                      {
                        "line": {
                          "colorbar": {
                            "outlinewidth": 0,
                            "ticks": ""
                          }
                        },
                        "marker": {
                          "colorbar": {
                            "outlinewidth": 0,
                            "ticks": ""
                          }
                        },
                        "type": "scatter3d"
                      }
                    ],
                    "scattercarpet": [
                      {
                        "marker": {
                          "colorbar": {
                            "outlinewidth": 0,
                            "ticks": ""
                          }
                        },
                        "type": "scattercarpet"
                      }
                    ],
                    "scattergeo": [
                      {
                        "marker": {
                          "colorbar": {
                            "outlinewidth": 0,
                            "ticks": ""
                          }
                        },
                        "type": "scattergeo"
                      }
                    ],
                    "scattergl": [
                      {
                        "marker": {
                          "colorbar": {
                            "outlinewidth": 0,
                            "ticks": ""
                          }
                        },
                        "type": "scattergl"
                      }
                    ],
                    "scattermapbox": [
                      {
                        "marker": {
                          "colorbar": {
                            "outlinewidth": 0,
                            "ticks": ""
                          }
                        },
                        "type": "scattermapbox"
                      }
                    ],
                    "scatterpolar": [
                      {
                        "marker": {
                          "colorbar": {
                            "outlinewidth": 0,
                            "ticks": ""
                          }
                        },
                        "type": "scatterpolar"
                      }
                    ],
                    "scatterpolargl": [
                      {
                        "marker": {
                          "colorbar": {
                            "outlinewidth": 0,
                            "ticks": ""
                          }
                        },
                        "type": "scatterpolargl"
                      }
                    ],
                    "scatterternary": [
                      {
                        "marker": {
                          "colorbar": {
                            "outlinewidth": 0,
                            "ticks": ""
                          }
                        },
                        "type": "scatterternary"
                      }
                    ],
                    "surface": [
                      {
                        "colorbar": {
                          "outlinewidth": 0,
                          "ticks": ""
                        },
                        "colorscale": [
                          [
                            0,
                            "#0d0887"
                          ],
                          [
                            0.1111111111111111,
                            "#46039f"
                          ],
                          [
                            0.2222222222222222,
                            "#7201a8"
                          ],
                          [
                            0.3333333333333333,
                            "#9c179e"
                          ],
                          [
                            0.4444444444444444,
                            "#bd3786"
                          ],
                          [
                            0.5555555555555556,
                            "#d8576b"
                          ],
                          [
                            0.6666666666666666,
                            "#ed7953"
                          ],
                          [
                            0.7777777777777778,
                            "#fb9f3a"
                          ],
                          [
                            0.8888888888888888,
                            "#fdca26"
                          ],
                          [
                            1,
                            "#f0f921"
                          ]
                        ],
                        "type": "surface"
                      }
                    ],
                    "table": [
                      {
                        "cells": {
                          "fill": {
                            "color": "#EBF0F8"
                          },
                          "line": {
                            "color": "white"
                          }
                        },
                        "header": {
                          "fill": {
                            "color": "#C8D4E3"
                          },
                          "line": {
                            "color": "white"
                          }
                        },
                        "type": "table"
                      }
                    ]
                  },
                  "layout": {
                    "annotationdefaults": {
                      "arrowcolor": "#2a3f5f",
                      "arrowhead": 0,
                      "arrowwidth": 1
                    },
                    "autotypenumbers": "strict",
                    "coloraxis": {
                      "colorbar": {
                        "outlinewidth": 0,
                        "ticks": ""
                      }
                    },
                    "colorscale": {
                      "diverging": [
                        [
                          0,
                          "#8e0152"
                        ],
                        [
                          0.1,
                          "#c51b7d"
                        ],
                        [
                          0.2,
                          "#de77ae"
                        ],
                        [
                          0.3,
                          "#f1b6da"
                        ],
                        [
                          0.4,
                          "#fde0ef"
                        ],
                        [
                          0.5,
                          "#f7f7f7"
                        ],
                        [
                          0.6,
                          "#e6f5d0"
                        ],
                        [
                          0.7,
                          "#b8e186"
                        ],
                        [
                          0.8,
                          "#7fbc41"
                        ],
                        [
                          0.9,
                          "#4d9221"
                        ],
                        [
                          1,
                          "#276419"
                        ]
                      ],
                      "sequential": [
                        [
                          0,
                          "#0d0887"
                        ],
                        [
                          0.1111111111111111,
                          "#46039f"
                        ],
                        [
                          0.2222222222222222,
                          "#7201a8"
                        ],
                        [
                          0.3333333333333333,
                          "#9c179e"
                        ],
                        [
                          0.4444444444444444,
                          "#bd3786"
                        ],
                        [
                          0.5555555555555556,
                          "#d8576b"
                        ],
                        [
                          0.6666666666666666,
                          "#ed7953"
                        ],
                        [
                          0.7777777777777778,
                          "#fb9f3a"
                        ],
                        [
                          0.8888888888888888,
                          "#fdca26"
                        ],
                        [
                          1,
                          "#f0f921"
                        ]
                      ],
                      "sequentialminus": [
                        [
                          0,
                          "#0d0887"
                        ],
                        [
                          0.1111111111111111,
                          "#46039f"
                        ],
                        [
                          0.2222222222222222,
                          "#7201a8"
                        ],
                        [
                          0.3333333333333333,
                          "#9c179e"
                        ],
                        [
                          0.4444444444444444,
                          "#bd3786"
                        ],
                        [
                          0.5555555555555556,
                          "#d8576b"
                        ],
                        [
                          0.6666666666666666,
                          "#ed7953"
                        ],
                        [
                          0.7777777777777778,
                          "#fb9f3a"
                        ],
                        [
                          0.8888888888888888,
                          "#fdca26"
                        ],
                        [
                          1,
                          "#f0f921"
                        ]
                      ]
                    },
                    "colorway": [
                      "#636efa",
                      "#EF553B",
                      "#00cc96",
                      "#ab63fa",
                      "#FFA15A",
                      "#19d3f3",
                      "#FF6692",
                      "#B6E880",
                      "#FF97FF",
                      "#FECB52"
                    ],
                    "font": {
                      "color": "#2a3f5f"
                    },
                    "geo": {
                      "bgcolor": "white",
                      "lakecolor": "white",
                      "landcolor": "#E5ECF6",
                      "showlakes": true,
                      "showland": true,
                      "subunitcolor": "white"
                    },
                    "hoverlabel": {
                      "align": "left"
                    },
                    "hovermode": "closest",
                    "mapbox": {
                      "style": "light"
                    },
                    "paper_bgcolor": "white",
                    "plot_bgcolor": "#E5ECF6",
                    "polar": {
                      "angularaxis": {
                        "gridcolor": "white",
                        "linecolor": "white",
                        "ticks": ""
                      },
                      "bgcolor": "#E5ECF6",
                      "radialaxis": {
                        "gridcolor": "white",
                        "linecolor": "white",
                        "ticks": ""
                      }
                    },
                    "scene": {
                      "xaxis": {
                        "backgroundcolor": "#E5ECF6",
                        "gridcolor": "white",
                        "gridwidth": 2,
                        "linecolor": "white",
                        "showbackground": true,
                        "ticks": "",
                        "zerolinecolor": "white"
                      },
                      "yaxis": {
                        "backgroundcolor": "#E5ECF6",
                        "gridcolor": "white",
                        "gridwidth": 2,
                        "linecolor": "white",
                        "showbackground": true,
                        "ticks": "",
                        "zerolinecolor": "white"
                      },
                      "zaxis": {
                        "backgroundcolor": "#E5ECF6",
                        "gridcolor": "white",
                        "gridwidth": 2,
                        "linecolor": "white",
                        "showbackground": true,
                        "ticks": "",
                        "zerolinecolor": "white"
                      }
                    },
                    "shapedefaults": {
                      "line": {
                        "color": "#2a3f5f"
                      }
                    },
                    "ternary": {
                      "aaxis": {
                        "gridcolor": "white",
                        "linecolor": "white",
                        "ticks": ""
                      },
                      "baxis": {
                        "gridcolor": "white",
                        "linecolor": "white",
                        "ticks": ""
                      },
                      "bgcolor": "#E5ECF6",
                      "caxis": {
                        "gridcolor": "white",
                        "linecolor": "white",
                        "ticks": ""
                      }
                    },
                    "title": {
                      "x": 0.05
                    },
                    "xaxis": {
                      "automargin": true,
                      "gridcolor": "white",
                      "linecolor": "white",
                      "ticks": "",
                      "title": {
                        "standoff": 15
                      },
                      "zerolinecolor": "white",
                      "zerolinewidth": 2
                    },
                    "yaxis": {
                      "automargin": true,
                      "gridcolor": "white",
                      "linecolor": "white",
                      "ticks": "",
                      "title": {
                        "standoff": 15
                      },
                      "zerolinecolor": "white",
                      "zerolinewidth": 2
                    }
                  }
                }
              }
            }
          },
          "metadata": {},
          "output_type": "display_data"
        }
      ],
      "source": [
        "fig = px.sunburst(df, path=['mfr','calories','sugars'], values='cereal')\n",
        "fig.show()"
      ]
    }
  ],
  "metadata": {
    "colab": {
      "provenance": []
    },
    "kernelspec": {
      "display_name": "Python 3",
      "name": "python3"
    },
    "language_info": {
      "codemirror_mode": {
        "name": "ipython",
        "version": 3
      },
      "file_extension": ".py",
      "mimetype": "text/x-python",
      "name": "python",
      "nbconvert_exporter": "python",
      "pygments_lexer": "ipython3",
      "version": "3.11.6"
    }
  },
  "nbformat": 4,
  "nbformat_minor": 0
}
